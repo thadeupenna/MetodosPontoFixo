{
 "cells": [
  {
   "cell_type": "code",
   "execution_count": 1,
   "id": "7b56c2ba",
   "metadata": {
    "hide_input": true
   },
   "outputs": [],
   "source": [
    "import matplotlib.pyplot as plt\n",
    "import numpy as np \n",
    "import ipywidgets as widgets\n",
    "from IPython.display import display\n",
    "from matplotlib import patheffects\n",
    "from matplotlib.ticker import MaxNLocator\n",
    "%matplotlib inline"
   ]
  },
  {
   "cell_type": "code",
   "execution_count": 2,
   "id": "9918bb57",
   "metadata": {},
   "outputs": [
    {
     "data": {
      "text/html": [
       "<style> \n",
       ".widget-readout{ color:white; font-size: 20px; } \n",
       ".jupyter-widgets {color: white; }\n",
       ".widget-label {\n",
       " color: white;#cccccc !important;\n",
       " font-size: 22px;\n",
       "}\n",
       "</style>\n"
      ],
      "text/plain": [
       "<IPython.core.display.HTML object>"
      ]
     },
     "metadata": {},
     "output_type": "display_data"
    }
   ],
   "source": [
    "%%html \n",
    "<style> \n",
    ".widget-readout{ color:white; font-size: 20px; } \n",
    ".jupyter-widgets {color: white; }\n",
    ".widget-label {\n",
    " color: white;#cccccc !important;\n",
    " font-size: 22px;\n",
    "}\n",
    "</style>"
   ]
  },
  {
   "cell_type": "code",
   "execution_count": 3,
   "id": "6bce5dd3",
   "metadata": {},
   "outputs": [],
   "source": [
    "def f(x):\n",
    "    return x**2 - 1\n",
    "\n",
    "def fl(x): \n",
    "    return 2*x "
   ]
  },
  {
   "cell_type": "code",
   "execution_count": 4,
   "id": "5ef8c095",
   "metadata": {},
   "outputs": [],
   "source": [
    "# import matplotlib.font_manager\n",
    "# from IPython.core.display import HTML\n",
    "\n",
    "# def make_html(fontname):\n",
    "#     return \"<p>{font}: <span style='font-family:{font}; font-size: 24px;'>{font}</p>\".format(font=fontname)\n",
    "\n",
    "# code = \"\\n\".join([make_html(font) for font in sorted(set([f.name for f in matplotlib.font_manager.fontManager.ttflist]))])\n",
    "\n",
    "# HTML(\"<div style='column-count: 2;'>{}</div>\".format(code))"
   ]
  },
  {
   "cell_type": "code",
   "execution_count": 5,
   "id": "de29950f",
   "metadata": {},
   "outputs": [],
   "source": [
    "plt.style.use('dark_background')\n",
    "plt.rcParams['font.family'] = ['Comic Neue']\n",
    "plt.rc('font', size=20) \n",
    "\n"
   ]
  },
  {
   "cell_type": "code",
   "execution_count": 6,
   "id": "873b2456",
   "metadata": {
    "scrolled": false
   },
   "outputs": [
    {
     "data": {
      "application/vnd.jupyter.widget-view+json": {
       "model_id": "9a81dd679fa148b19171319d1edf8c9a",
       "version_major": 2,
       "version_minor": 0
      },
      "text/plain": [
       "interactive(children=(IntSlider(value=0, description='it', max=8), Output()), _dom_classes=('widget-interact',…"
      ]
     },
     "metadata": {},
     "output_type": "display_data"
    }
   ],
   "source": [
    "def nr(it=0):\n",
    "    fig,ax = plt.subplots(1, figsize=(12,8), facecolor='#000000')\n",
    "\n",
    "    ax.spines['bottom'].set_color('white')\n",
    "    ax.spines['bottom'].set_position('zero')\n",
    "#     ax.spines['left'].set_position('zero')\n",
    "    ax.spines['top'].set_visible(False) \n",
    "    ax.spines['right'].set_visible(False) \n",
    "    ax.spines['left'].set_color('white')\n",
    "    ax.set_ylabel('f(x)')\n",
    "    ax.set_xlabel(\"x\", fontweight ='bold', fontsize=24, loc=\"right\")\n",
    "    ax.set_ylabel(\"f(x)\", fontweight ='bold', fontsize=24, rotation=0, loc=\"top\")\n",
    "#     ax.set_xticklabels([])\n",
    "#     ax.set_yticklabels([])\n",
    "\n",
    "    xp = np.arange(0.75, 2.5, 0.05)\n",
    "    yp = f(xp)\n",
    "    x0 = 2.2\n",
    "    y0 = 0\n",
    "    y = f(x0)\n",
    "    ax.plot(xp,yp, lw=1, color='cyan');\n",
    "    ax.vlines(x0, y0, y, color = 'orange', ls = 'dashed')\n",
    "\n",
    "    tx0 = ax.text(0.2, 0.95, f'$x_0 = {x0:.4}$', va = 'top', ha ='left', fontsize=40, transform=ax.transAxes)\n",
    "    tx1 = ax.text(0.2, 0.85, f'', va = 'top', ha ='left', fontsize=40, transform=ax.transAxes)\n",
    "    ax.set_ylim(top=4.5)\n",
    "\n",
    "    i = 0\n",
    "    while ( (i<it) & (abs(y)>1e-13)) :\n",
    "        x = x0 - y/fl(x0)\n",
    "        dx= (x0 - x)/4\n",
    "        ax.plot([x,x0],[0,y],lw=2, color='lime')\n",
    "        ax.vlines(x0, y0, y, color = 'orange', ls = 'dashed')\n",
    "        ax.text(x0, y/2, f' f(x{i})', color = 'orange' )\n",
    "        ax.plot(xp,yp, lw=1, color='cyan');\n",
    "#         xp = np.arange(1-dx, x0+dx, dx/100)\n",
    "#         yp = f(xp)\n",
    "#         ax.set_xlim(1-dx, x0+dx)\n",
    "#         ax.spines['left'].set_position(('data', 1-dx))    \n",
    "        ax.text(x0, 0.1, f'  $x_{i}$' , va = 'bottom', ha ='left', fontsize=40) \n",
    "        ax.text(x, 0.1,  f'  $x_{i+1}$', va = 'bottom', ha ='left', fontsize=40) \n",
    "        tx0.set_text( f'$x_{i} =   {x0:.4}$')\n",
    "        tx1.set_text( f'$x_{i+1}= {x:.4}$')\n",
    "        i+=1\n",
    "        x0 = x\n",
    "        y = f(x0)\n",
    "        if (abs(y)<1e-13):\n",
    "            tx0.set_text('Raiz encontrada')\n",
    "        \n",
    "\n",
    "\n",
    "        \n",
    "widgets.interact(nr, it=(0,8));"
   ]
  }
 ],
 "metadata": {
  "hide_input": true,
  "kernelspec": {
   "display_name": "Python 3",
   "language": "python",
   "name": "python3"
  },
  "language_info": {
   "codemirror_mode": {
    "name": "ipython",
    "version": 3
   },
   "file_extension": ".py",
   "mimetype": "text/x-python",
   "name": "python",
   "nbconvert_exporter": "python",
   "pygments_lexer": "ipython3",
   "version": "3.7.11"
  }
 },
 "nbformat": 4,
 "nbformat_minor": 5
}
