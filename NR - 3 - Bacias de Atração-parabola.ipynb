{
 "cells": [
  {
   "cell_type": "code",
   "execution_count": 1,
   "id": "7b56c2ba",
   "metadata": {},
   "outputs": [],
   "source": [
    "import matplotlib.pyplot as plt\n",
    "import numpy as np \n",
    "import ipywidgets as widgets\n",
    "from IPython.display import display\n",
    "from matplotlib import patheffects\n",
    "from matplotlib.ticker import MaxNLocator\n",
    "%matplotlib inline"
   ]
  },
  {
   "cell_type": "code",
   "execution_count": 2,
   "id": "9918bb57",
   "metadata": {},
   "outputs": [
    {
     "data": {
      "text/html": [
       "<style> \n",
       ".widget-readout{ color:white; font-size: 20px; } \n",
       ".jupyter-widgets {color: white; }\n",
       ".widget-label {\n",
       " color: white;#cccccc !important;\n",
       " font-size: 22px;\n",
       "}\n",
       "</style>\n"
      ],
      "text/plain": [
       "<IPython.core.display.HTML object>"
      ]
     },
     "metadata": {},
     "output_type": "display_data"
    }
   ],
   "source": [
    "%%html \n",
    "<style> \n",
    ".widget-readout{ color:white; font-size: 20px; } \n",
    ".jupyter-widgets {color: white; }\n",
    ".widget-label {\n",
    " color: white;#cccccc !important;\n",
    " font-size: 22px;\n",
    "}\n",
    "</style>"
   ]
  },
  {
   "cell_type": "code",
   "execution_count": 3,
   "id": "6bce5dd3",
   "metadata": {},
   "outputs": [],
   "source": [
    "def f(x):\n",
    "    return x**2 -1 \n",
    "\n",
    "def fl(x): \n",
    "    return 2*x"
   ]
  },
  {
   "cell_type": "code",
   "execution_count": 4,
   "id": "5ef8c095",
   "metadata": {},
   "outputs": [],
   "source": [
    "# import matplotlib.font_manager\n",
    "# from IPython.core.display import HTML\n",
    "\n",
    "# def make_html(fontname):\n",
    "#     return \"<p>{font}: <span style='font-family:{font}; font-size: 24px;'>{font}</p>\".format(font=fontname)\n",
    "\n",
    "# code = \"\\n\".join([make_html(font) for font in sorted(set([f.name for f in matplotlib.font_manager.fontManager.ttflist]))])\n",
    "\n",
    "# HTML(\"<div style='column-count: 2;'>{}</div>\".format(code))"
   ]
  },
  {
   "cell_type": "code",
   "execution_count": 5,
   "id": "de29950f",
   "metadata": {},
   "outputs": [],
   "source": [
    "plt.style.use('dark_background')\n",
    "plt.rcParams['font.family'] = ['Letters for Learners']\n",
    "plt.rc('font', size=20) \n",
    "\n"
   ]
  },
  {
   "cell_type": "code",
   "execution_count": 6,
   "id": "873b2456",
   "metadata": {
    "scrolled": false
   },
   "outputs": [
    {
     "data": {
      "application/vnd.jupyter.widget-view+json": {
       "model_id": "0e3f3cd802234eba8ef464c843d8add4",
       "version_major": 2,
       "version_minor": 0
      },
      "text/plain": [
       "interactive(children=(IntSlider(value=0, description='it', max=12), FloatSlider(value=2.5, description='$x_0$'…"
      ]
     },
     "metadata": {},
     "output_type": "display_data"
    }
   ],
   "source": [
    "def nr(it=0, x0=0.5):\n",
    "    fig,ax = plt.subplots(1, figsize=(12,8), facecolor='#000000')\n",
    "\n",
    "    ax.spines['bottom'].set_color('white')\n",
    "    ax.spines['bottom'].set_position('zero')\n",
    "    ax.spines['left'].set_position('zero')\n",
    "    ax.spines['top'].set_visible(False) \n",
    "    ax.spines['right'].set_visible(False) \n",
    "    ax.spines['left'].set_color('white')\n",
    "    ax.set_ylabel('f(x)')\n",
    "    ax.set_xlabel(\"x\", fontweight ='bold', fontsize=24, loc=\"right\")\n",
    "    ax.set_ylabel(\"f(x)\", fontweight ='bold', fontsize=24, rotation=0, loc=\"top\")\n",
    "#     ax.set_xticklabels([])\n",
    "#     ax.set_yticklabels([])\n",
    "\n",
    "    xmin = -3\n",
    "    xmax = 3 \n",
    "    xp = np.arange(xmin, xmax, 0.01)\n",
    "    yp = f(xp)\n",
    "    y0 = 0\n",
    "    ax.plot(xp,yp, lw=3, color='cyan');\n",
    "    ax.plot(x0,f(x0),'yo', markersize=20)\n",
    "    ax.vlines(x0, y0, f(x0), color = 'orange', ls = 'dashed')\n",
    "    ax.spines['bottom'].set_position('zero')\n",
    "\n",
    "    tx1 = ax.text(0.6, 1.05, f'f({x0:.4})={f(x0):.4}', va = 'top', ha ='left', fontsize=40, transform=ax.transAxes)\n",
    "    ymin, ymax = ax.get_ylim()\n",
    "    for i in range(it): \n",
    "#        ax.set_xlim(auto=True)\n",
    "#        ax.set_ylim(min(yp), max(yp))\n",
    "#        ax.set_ylim(auto=True)\n",
    "#         ax.clear()\n",
    "        y = f(x0)\n",
    "        if abs(y)<1e-6:\n",
    "            tx1.set_text( 'Raiz encontrada!')\n",
    "            break\n",
    "        x = x0 - f(x0)/fl(x0)\n",
    "        ax.plot([x,x0],[0,y],lw=1, color='lime')\n",
    "        xp = np.arange(xmin, xmax, abs(xmax-xmin)/100)\n",
    "        yp = f(xp)\n",
    "        ax.plot(xp,yp, lw=3, color='cyan'); \n",
    "        ax.vlines(x, ymin, ymax, color = 'orange', ls = 'dashed')\n",
    "        ax.plot(x,f(x),'yo', markersize=20)\n",
    "        xmin = min([x,x0])\n",
    "        xmax = max([x,x0])\n",
    "#        ax.spines['left'].set_position(('data', 1-dx))    \n",
    "#         tx0.set_position([x,0])\n",
    "#         tx0.set_text( f'{x:.4}')\n",
    "        tx1.set_text( f'f({x:.4})={f(x):.4}')\n",
    "        x0 = x\n",
    "\n",
    "xo_r = widgets.FloatSlider(min=-3, max=3, step=0.05, value=2.5, layout=widgets.Layout(width='600px'), description = r'$x_0$') \n",
    "widgets.interact(nr, it=(0,12), x0=xo_r);       "
   ]
  },
  {
   "cell_type": "code",
   "execution_count": null,
   "id": "97fd524d",
   "metadata": {},
   "outputs": [],
   "source": []
  }
 ],
 "metadata": {
  "hide_input": true,
  "kernelspec": {
   "display_name": "Python 3",
   "language": "python",
   "name": "python3"
  },
  "language_info": {
   "codemirror_mode": {
    "name": "ipython",
    "version": 3
   },
   "file_extension": ".py",
   "mimetype": "text/x-python",
   "name": "python",
   "nbconvert_exporter": "python",
   "pygments_lexer": "ipython3",
   "version": "3.7.11"
  }
 },
 "nbformat": 4,
 "nbformat_minor": 5
}
