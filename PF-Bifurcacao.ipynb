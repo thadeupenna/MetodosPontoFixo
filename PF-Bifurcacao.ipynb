{
 "cells": [
  {
   "cell_type": "code",
   "execution_count": 6,
   "id": "1133fd07",
   "metadata": {},
   "outputs": [],
   "source": [
    "import matplotlib.pyplot as plt\n",
    "from matplotlib import patheffects\n",
    "import numpy as np\n",
    "import ipywidgets as widgets\n",
    "from IPython.display import display"
   ]
  },
  {
   "cell_type": "code",
   "execution_count": 7,
   "id": "725db235",
   "metadata": {},
   "outputs": [],
   "source": [
    "def f(x, a):\n",
    "    return a* np.sin (np.pi *x) "
   ]
  },
  {
   "cell_type": "code",
   "execution_count": 8,
   "id": "166772c0",
   "metadata": {},
   "outputs": [
    {
     "data": {
      "text/html": [
       "<style> \n",
       ".widget-readout{ color:white; font-size: 20px } \n",
       "</style>\n"
      ],
      "text/plain": [
       "<IPython.core.display.HTML object>"
      ]
     },
     "metadata": {},
     "output_type": "display_data"
    }
   ],
   "source": [
    "%%html \n",
    "<style> \n",
    ".widget-readout{ color:white; font-size: 20px } \n",
    "</style>"
   ]
  },
  {
   "cell_type": "code",
   "execution_count": 9,
   "id": "97e62275",
   "metadata": {
    "scrolled": false
   },
   "outputs": [
    {
     "data": {
      "application/vnd.jupyter.widget-view+json": {
       "model_id": "72b8d35bfb8d4260aaddff1a03bd0f14",
       "version_major": 2,
       "version_minor": 0
      },
      "text/plain": [
       "interactive(children=(IntSlider(value=100, description='iterações', layout=Layout(width='500px'), min=50, step…"
      ]
     },
     "metadata": {},
     "output_type": "display_data"
    },
    {
     "data": {
      "image/png": "[encoded data removed]",
      "text/plain": [
       "<Figure size 864x576 with 1 Axes>"
      ]
     },
     "metadata": {},
     "output_type": "display_data"
    }
   ],
   "source": [
    "plt.style.use('dark_background')\n",
    "plt.rcParams['font.family'] = ['Letters for Learners']\n",
    "plt.rc('font', size=20) \n",
    "\n",
    "def bifurcationupdate(iter, last, ai=2.8, af=4.0, roda=True):\n",
    "    if roda :\n",
    "        fig, ax = plt.subplots(1, figsize=(12,8), facecolor='#000000')\n",
    "        ax.spines['bottom'].set_color('white')\n",
    "        ax.spines['top'].set_color('none') \n",
    "        ax.spines['right'].set_color('none')\n",
    "        ax.spines['left'].set_color('white')\n",
    "        ax.set_xlabel(\"a\")\n",
    "        ax.set_ylabel(r'$x_\\infty$')\n",
    "        da = (af-ai)/500\n",
    "        for a in np.arange(ai,af,da):\n",
    "            x = [] \n",
    "            y = [] x*(1-x)\n",
    "            b = np.random.random_sample()\n",
    "            ba = b\n",
    "            for t in range(iter):\n",
    "                b = f(b, a)\n",
    "                if (t>(iter-last)): \n",
    "                    x.append(a)\n",
    "                    y.append(b)\n",
    "#                 if( ba == b):\n",
    "#                     break\n",
    "                ba = b    \n",
    "            plt.plot(x,y, ls='', marker='.', color = 'yellow', markersize=2);\n",
    "        \n",
    "i_s  = widgets.IntSlider(min=50, max=100, step=50, value=100, layout=widgets.Layout(width='500px'), description='iterações')\n",
    "l_s  = widgets.IntSlider(min=0, max=20, step=10, value=10,  layout=widgets.Layout(width='400px'), description = 'últimas')\n",
    "ai_s = widgets.FloatSlider(min=0.0, max=1, step=0.05, value=2, description = 'a inicial')\n",
    "af_s = widgets.FloatSlider(min=0.0, max=1, step=0.05, value=4, description = 'a final')\n",
    "plt.close();\n",
    "\n",
    "\n",
    "r_s =  widgets.Checkbox(\n",
    "    value=False,\n",
    "    description='Atualiza',\n",
    "    disabled=False,\n",
    "    indent=False, \n",
    ")\n",
    "widgets.interact(bifurcationupdate, iter=i_s, last=l_s,  ai=ai_s, af=af_s, roda=r_s, description='it');"
   ]
  },
  {
   "cell_type": "code",
   "execution_count": null,
   "id": "c2ffa4b1",
   "metadata": {},
   "outputs": [],
   "source": []
  }
 ],
 "metadata": {
  "hide_input": false,
  "kernelspec": {
   "display_name": "Python 3",
   "language": "python",
   "name": "python3"
  },
  "language_info": {
   "codemirror_mode": {
    "name": "ipython",
    "version": 3
   },
   "file_extension": ".py",
   "mimetype": "text/x-python",
   "name": "python",
   "nbconvert_exporter": "python",
   "pygments_lexer": "ipython3",
   "version": "3.7.11"
  }
 },
 "nbformat": 4,
 "nbformat_minor": 5
}
