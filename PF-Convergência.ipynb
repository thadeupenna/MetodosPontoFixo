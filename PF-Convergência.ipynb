{
 "cells": [
  {
   "cell_type": "code",
   "execution_count": 19,
   "id": "47a05fe6",
   "metadata": {},
   "outputs": [],
   "source": [
    "import matplotlib.pyplot as plt\n",
    "import numpy as np \n",
    "import ipywidgets as widgets\n",
    "from IPython.display import display"
   ]
  },
  {
   "cell_type": "code",
   "execution_count": 20,
   "id": "b87b2926",
   "metadata": {},
   "outputs": [
    {
     "data": {
      "text/html": [
       "<style> \n",
       ".widget-readout{ color:white; } \n",
       "</style>\n"
      ],
      "text/plain": [
       "<IPython.core.display.HTML object>"
      ]
     },
     "metadata": {},
     "output_type": "display_data"
    }
   ],
   "source": [
    "%%html \n",
    "<style> \n",
    ".widget-readout{ color:white; } \n",
    "</style>"
   ]
  },
  {
   "cell_type": "code",
   "execution_count": 21,
   "id": "74fc277d",
   "metadata": {},
   "outputs": [],
   "source": [
    "def f(x, a):\n",
    "    y = a*x*(1-x)\n",
    "    return y"
   ]
  },
  {
   "cell_type": "code",
   "execution_count": 22,
   "id": "9671f0a8",
   "metadata": {},
   "outputs": [],
   "source": [
    "from matplotlib import patheffects\n",
    "from matplotlib.ticker import MaxNLocator\n",
    "%matplotlib inline"
   ]
  },
  {
   "cell_type": "code",
   "execution_count": 24,
   "id": "6dc95d46",
   "metadata": {
    "scrolled": false
   },
   "outputs": [
    {
     "data": {
      "application/vnd.jupyter.widget-view+json": {
       "model_id": "53dbfd6e9e8e4fdf9d3ab4bc5305644a",
       "version_major": 2,
       "version_minor": 0
      },
      "text/plain": [
       "interactive(children=(IntSlider(value=1, description='iterações', layout=Layout(width='500px'), max=70, min=1)…"
      ]
     },
     "metadata": {},
     "output_type": "display_data"
    }
   ],
   "source": [
    "def logisticupdate(i=1, a=1.0, x0=0.3):\n",
    "    plt.style.use('dark_background')\n",
    "    plt.xkcd()\n",
    "    plt.rcParams['path.effects'] = [patheffects.withStroke(linewidth=0)]\n",
    "    plt.rcParams['font.family'] = ['Walter Turncoat']\n",
    "\n",
    "    fig,ax = plt.subplots(1,2, figsize=(18,9), facecolor='#000000')\n",
    "    ax[0].spines['bottom'].set_color('white')\n",
    "    ax[0].spines['bottom'].set_position('zero')\n",
    "    ax[0].spines['left'].set_position('zero')\n",
    "    ax[0].spines['top'].set_visible(False) \n",
    "    ax[0].spines['right'].set_visible(False) \n",
    "    ax[0].spines['left'].set_color('white')\n",
    "    ax[0].set_ylabel('f(x)')\n",
    "    ax[0].set_xlabel(\"x\")\n",
    "    xtc = np.arange(0,1.1,0.5)\n",
    "    ytc = np.arange(0,1.1,0.5)\n",
    "    ax[0].set_xticks(xtc)\n",
    "    ax[0].set_xticklabels(['0', '', '1'])\n",
    "    ax[0].set_yticks(ytc)\n",
    "    ax[0].set_yticklabels(['', '', '1'])\n",
    "    # ax[0]autoscale_view(True, True, True)\n",
    "    ax[0].set_ylim(0, 1.05)\n",
    "    xp = np.arange(0,1,0.01)\n",
    "    yp = f(xp, a)\n",
    "    raiz = (a-1)/a    \n",
    "    \n",
    "    ax[0].plot(xp, yp, lw = 4)\n",
    "    ax[0].plot([0,1], [0,1], 'r', lw=3);\n",
    "    \n",
    "    ax[1].spines['bottom'].set_color('white')\n",
    "#     ax[1].spines['bottom'].set_position('zero')\n",
    "#     ax[1].spines['left'].set_position('zero')\n",
    "    ax[1].spines['top'].set_visible(False) \n",
    "    ax[1].spines['right'].set_visible(False) \n",
    "    ax[1].spines['left'].set_color('white')\n",
    "    ax[1].xaxis.set_major_locator(MaxNLocator(integer=True))\n",
    "#     ax[1].set_yscale('log')\n",
    "#    ax[1].set_xscale('log')\n",
    "\n",
    "#     ax[1].axhline(raiz,  color = 'orange', ls = 'dashed')\n",
    "#     ax[1].text(0, raiz, f' {raiz:.4}', va = 'center', ha ='left', fontsize=20)\n",
    "#     ax[1].set_ylim(0,1.05)\n",
    "    y0 = 0\n",
    "    xt = [1]\n",
    "    dx0 = f(x0, a)\n",
    "    yt = [ dx0 ]\n",
    "    \n",
    "    for j in range(i):\n",
    "        y = f(x0, a)\n",
    "        ax[0].vlines(x0, y0, y, color = 'orange', ls = 'dashed')\n",
    "        ax[0].hlines(y, x0, y, color = 'orange', ls = 'dashed')\n",
    "        x0 = y \n",
    "        y0 = y\n",
    "        xt.append(xt[-1]+1)\n",
    "        yt.append(abs(y0 - raiz))\n",
    "        dx0 = abs(y0-raiz)\n",
    "        if (dx0<1e-6):\n",
    "             break\n",
    "            \n",
    "    ax[1].set_yscale('log')        \n",
    "    ax[1].set_ylabel(r'$\\epsilon$')\n",
    "    ax[1].plot(xt,yt, color='cyan', marker='o')\n",
    "    ax[0].text(x0, y0, f'   {x0:.4}', va = 'center', ha ='left', fontsize=20)\n",
    "    \n",
    "#     if (a>=1): \n",
    "#         plt.vlines(raiz,0, f(raiz, a), color = 'orange', ls = 'dashed')\n",
    "#         plt.hlines(raiz,0, f(raiz, a), color = 'orange', ls = 'dashed');\n",
    "\n",
    "\n",
    "#     ax[0]text(0.9,0.75,f'a={a}')\n",
    "# plt.vlines(b,0.9*a,b*1.1, color = 'orange', ls = 'dashed')\n",
    "# plt.hlines(a,0.9*a,b*1.1, color = 'orange', ls = 'dashed')\n",
    "# plt.hlines(b,0.9*a,b*1.1, color = 'orange', ls = 'dashed')\n",
    "# plt.savefig('logistico1.png', transparent=True)\n",
    "\n",
    "# inicia()\n",
    "# xp = np.arange(0,1,0.01)\n",
    "# logisticupdate(i = 5)\n",
    "i_s       = widgets.IntSlider(min=1, max=70, step=1, value=1, layout=widgets.Layout(width='500px'), description='iterações')\n",
    "a_s       = widgets.FloatSlider(min=0.5, max=4, step=0.05, value=1.0, layout=widgets.Layout(width='400px'), description = 'parâmetro a')\n",
    "x0_s       = widgets.FloatSlider(min=0.0, max=1, step=0.05, value=0.3, description = 'valor inicial')\n",
    "widgets.interact(logisticupdate, i=i_s, a=a_s, x0=x0_s, description='it');"
   ]
  },
  {
   "cell_type": "code",
   "execution_count": null,
   "id": "80c6ef77",
   "metadata": {},
   "outputs": [],
   "source": []
  },
  {
   "cell_type": "code",
   "execution_count": null,
   "id": "59ff2814",
   "metadata": {},
   "outputs": [],
   "source": []
  }
 ],
 "metadata": {
  "kernelspec": {
   "display_name": "Python 3",
   "language": "python",
   "name": "python3"
  },
  "language_info": {
   "codemirror_mode": {
    "name": "ipython",
    "version": 3
   },
   "file_extension": ".py",
   "mimetype": "text/x-python",
   "name": "python",
   "nbconvert_exporter": "python",
   "pygments_lexer": "ipython3",
   "version": "3.7.10"
  }
 },
 "nbformat": 4,
 "nbformat_minor": 5
}
