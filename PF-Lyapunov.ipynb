{
 "cells": [
  {
   "cell_type": "code",
   "execution_count": 38,
   "id": "1133fd07",
   "metadata": {},
   "outputs": [],
   "source": [
    "import matplotlib.pyplot as plt\n",
    "from matplotlib import patheffects\n",
    "import numpy as np\n",
    "import ipywidgets as widgets\n",
    "from IPython.display import display"
   ]
  },
  {
   "cell_type": "code",
   "execution_count": 39,
   "id": "725db235",
   "metadata": {},
   "outputs": [],
   "source": [
    "def f(x, a):\n",
    "    return a*x*(1-x)"
   ]
  },
  {
   "cell_type": "code",
   "execution_count": 40,
   "id": "166772c0",
   "metadata": {},
   "outputs": [
    {
     "data": {
      "text/html": [
       "<style> \n",
       ".widget-readout{ color:white; } \n",
       "</style>\n"
      ],
      "text/plain": [
       "<IPython.core.display.HTML object>"
      ]
     },
     "metadata": {},
     "output_type": "display_data"
    }
   ],
   "source": [
    "%%html \n",
    "<style> \n",
    ".widget-readout{ color:white; } \n",
    "</style>"
   ]
  },
  {
   "cell_type": "code",
   "execution_count": 75,
   "id": "97e62275",
   "metadata": {},
   "outputs": [
    {
     "data": {
      "application/vnd.jupyter.widget-view+json": {
       "model_id": "0d7b8b77633d4555b72d6ec36fd0e3d7",
       "version_major": 2,
       "version_minor": 0
      },
      "text/plain": [
       "interactive(children=(IntSlider(value=200, description='iterações', layout=Layout(width='500px'), max=500, min…"
      ]
     },
     "metadata": {},
     "output_type": "display_data"
    }
   ],
   "source": [
    "plt.style.use('dark_background')\n",
    "plt.xkcd()\n",
    "plt.rcParams['path.effects'] = [patheffects.withStroke(linewidth=0)]\n",
    "plt.rcParams['font.family'] = ['Letters for Learners']\n",
    "\n",
    "def bifurcationupdate(iter=1000, ai=2.8, af=4.0):\n",
    "    fig, ax = plt.subplots(1, figsize=(12,8), facecolor='#000000')\n",
    "    ax.spines['bottom'].set_color('white')\n",
    "    ax.spines['bottom'].set_position('zero')\n",
    "    ax.spines['top'].set_color('none') \n",
    "    ax.spines['right'].set_color('none')\n",
    "    ax.spines['left'].set_color('white')\n",
    "#     ax.set_ylim(bottom=-2, top=0.75)\n",
    "    da = (af-ai)/1000\n",
    "    x = np.arange(ai,af,da)\n",
    "    y = [] \n",
    "    for a in x:\n",
    "        delta = 1e-4\n",
    "        b = np.random.random_sample()\n",
    "        b1 = b + delta\n",
    "        soma = 0 \n",
    "        deltaa = abs(f(b, a) - f(b1, a))\n",
    "        for t in range(iter):\n",
    "            b = f(b, a)\n",
    "            if (b != 0.5) :\n",
    "                soma = soma + np.log(abs(a*(1-2*b)))\n",
    "#             print(a,np.log(delta/deltaa))\n",
    "        y.append(soma/t)\n",
    "    ynp = np.array(y)\n",
    "    plt.plot(x,ynp,'r,-');\n",
    "    plt.plot(x[ynp>0.05],ynp[ynp>0.05], 'y.-')\n",
    "i_s  = widgets.IntSlider(min=100, max=500, step=50, value=200, layout=widgets.Layout(width='500px'), description='iterações')\n",
    "# l_s  = widgets.FloatSlider(min=1, max=101, step=10, value=10,  layout=widgets.Layout(width='400px'), description = 'últimas')\n",
    "ai_s = widgets.FloatSlider(min=1.0, max=4, step=0.05, value=2, description = 'a inicial')\n",
    "af_s = widgets.FloatSlider(min=1.0, max=4, step=0.05, value=4, description = 'a final')\n",
    "plt.close();\n",
    "widgets.interact(bifurcationupdate, iter=i_s, ai=ai_s, af=af_s);"
   ]
  },
  {
   "cell_type": "code",
   "execution_count": null,
   "id": "bb7f5c02",
   "metadata": {},
   "outputs": [],
   "source": []
  },
  {
   "cell_type": "code",
   "execution_count": null,
   "id": "b63d6425",
   "metadata": {},
   "outputs": [],
   "source": []
  }
 ],
 "metadata": {
  "kernelspec": {
   "display_name": "Python 3",
   "language": "python",
   "name": "python3"
  },
  "language_info": {
   "codemirror_mode": {
    "name": "ipython",
    "version": 3
   },
   "file_extension": ".py",
   "mimetype": "text/x-python",
   "name": "python",
   "nbconvert_exporter": "python",
   "pygments_lexer": "ipython3",
   "version": "3.7.10"
  }
 },
 "nbformat": 4,
 "nbformat_minor": 5
}
