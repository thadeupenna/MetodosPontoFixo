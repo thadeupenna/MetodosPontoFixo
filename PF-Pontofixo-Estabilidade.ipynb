{
 "cells": [
  {
   "cell_type": "code",
   "execution_count": 40,
   "id": "c74706e6",
   "metadata": {},
   "outputs": [],
   "source": [
    "import matplotlib.pyplot as plt\n",
    "import numpy as np \n",
    "import ipywidgets as widgets\n",
    "from IPython.display import display"
   ]
  },
  {
   "cell_type": "code",
   "execution_count": 41,
   "id": "74fc277d",
   "metadata": {},
   "outputs": [],
   "source": [
    "def f(x, a):\n",
    "    return (a+1)/2-a*x"
   ]
  },
  {
   "cell_type": "code",
   "execution_count": 44,
   "id": "d99c2ad7",
   "metadata": {},
   "outputs": [],
   "source": [
    "from matplotlib import patheffects\n",
    "\n",
    "# plt.title(r'$\\frac{x^{10}-1}{100000}$')\n",
    "\n",
    "def logisticupdate(a=0.7, x0=0.3):\n",
    "    plt.style.use('dark_background')\n",
    "    plt.xkcd()\n",
    "    plt.rcParams['path.effects'] = [patheffects.withStroke(linewidth=0)]\n",
    "    plt.rcParams['font.family'] = ['Walter Turncoat']\n",
    "\n",
    "    fig,ax = plt.subplots(figsize=(11,9), facecolor='#000000')\n",
    "    ax.spines['bottom'].set_color('white')\n",
    "    ax.spines['bottom'].set_position('zero')\n",
    "    ax.spines['left'].set_position('zero')\n",
    "    ax.spines['top'].set_color('none') \n",
    "    ax.spines['right'].set_color('none')\n",
    "    ax.spines['left'].set_color('white')\n",
    "\n",
    "    b = 1\n",
    "    xp = np.arange(0,1,0.01)\n",
    "    xt = np.arange(0,b+0.1,0.5)\n",
    "    yt = np.arange(0,b+0.1,0.5)\n",
    "    plt.xticks(xt,['0', '', '1'])\n",
    "    plt.yticks(yt,['', '', '1'])\n",
    "    # ax.autoscale_view(True, True, True)\n",
    "    plt.ylim(0, 1.05)\n",
    "    plt.ylabel('f(x)')\n",
    "    plt.xlabel(\"x\"   )\n",
    "\n",
    "    \n",
    "    yp = f(xp, a)\n",
    "    raiz = (a-1)/a\n",
    "    plt.plot(xp, yp, lw = 4)\n",
    "    plt.plot([0,1], [0,1], 'r', lw=3);\n",
    "    y0 = 0 \n",
    "    for i in range(4):\n",
    "        x1 = f(x0,a)\n",
    "        plt.vlines(x0, y0, x1, color = 'orange', ls = 'dashed')\n",
    "        plt.hlines(x1, x0, x1, color = 'orange', ls = 'dashed')\n",
    "        x0 = x1\n",
    "        y0 = x1 \n",
    "# plt.hlines(b,0.9*a,b*1.1, color = 'orange', ls = 'dashed')\n",
    "# plt.savefig('logistico1.png', transparent=True)\n",
    "plt.close()\n"
   ]
  },
  {
   "cell_type": "code",
   "execution_count": 45,
   "id": "4a941d25",
   "metadata": {},
   "outputs": [
    {
     "data": {
      "text/html": [
       "<style> \n",
       ".widget-readout{ color:white; } \n",
       "</style>\n"
      ],
      "text/plain": [
       "<IPython.core.display.HTML object>"
      ]
     },
     "metadata": {},
     "output_type": "display_data"
    }
   ],
   "source": [
    "%%html \n",
    "<style> \n",
    ".widget-readout{ color:white; } \n",
    "</style>"
   ]
  },
  {
   "cell_type": "code",
   "execution_count": 46,
   "id": "f819345f",
   "metadata": {},
   "outputs": [
    {
     "data": {
      "application/vnd.jupyter.widget-view+json": {
       "model_id": "c73016bca0eb44a49644704f79628078",
       "version_major": 2,
       "version_minor": 0
      },
      "text/plain": [
       "interactive(children=(FloatSlider(value=1.0, description='parâmetro a', layout=Layout(width='400px'), max=1.4,…"
      ]
     },
     "metadata": {},
     "output_type": "display_data"
    }
   ],
   "source": [
    "a_s       = widgets.FloatSlider(min=0.2, max=1.4, step=0.1, value=1.0, layout=widgets.Layout(width='400px'), description = 'parâmetro a')\n",
    "x0_s       = widgets.FloatSlider(min=0.0, max=1, step=0.05, value=0.3, description = 'valor inicial')\n",
    "widgets.interact(logisticupdate,  a=a_s, x0=x0_s, description='it');"
   ]
  },
  {
   "cell_type": "code",
   "execution_count": null,
   "id": "98d7b5e8",
   "metadata": {},
   "outputs": [],
   "source": []
  }
 ],
 "metadata": {
  "kernelspec": {
   "display_name": "Python 3",
   "language": "python",
   "name": "python3"
  },
  "language_info": {
   "codemirror_mode": {
    "name": "ipython",
    "version": 3
   },
   "file_extension": ".py",
   "mimetype": "text/x-python",
   "name": "python",
   "nbconvert_exporter": "python",
   "pygments_lexer": "ipython3",
   "version": "3.7.10"
  }
 },
 "nbformat": 4,
 "nbformat_minor": 5
}
