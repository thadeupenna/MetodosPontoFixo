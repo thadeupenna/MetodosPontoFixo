{
 "cells": [
  {
   "cell_type": "code",
   "execution_count": 1,
   "id": "c74706e6",
   "metadata": {},
   "outputs": [],
   "source": [
    "import matplotlib.pyplot as plt\n",
    "import numpy as np \n",
    "import ipywidgets as widgets\n",
    "from IPython.display import display"
   ]
  },
  {
   "cell_type": "code",
   "execution_count": 2,
   "id": "74fc277d",
   "metadata": {},
   "outputs": [],
   "source": [
    "def f(x, a):\n",
    "    return a*x*(1-x)"
   ]
  },
  {
   "cell_type": "code",
   "execution_count": 3,
   "id": "d99c2ad7",
   "metadata": {},
   "outputs": [],
   "source": [
    "from matplotlib import patheffects\n",
    "\n",
    "# plt.title(r'$\\frac{x^{10}-1}{100000}$')\n",
    "\n",
    "def logisticupdate(a=1.5):\n",
    "    plt.style.use('dark_background')\n",
    "    plt.xkcd()\n",
    "    plt.rcParams['path.effects'] = [patheffects.withStroke(linewidth=0)]\n",
    "    plt.rcParams['font.family'] = ['Walter Turncoat']\n",
    "\n",
    "    fig,ax = plt.subplots(figsize=(11,9), facecolor='#000000')\n",
    "    ax.spines['bottom'].set_color('white')\n",
    "    ax.spines['bottom'].set_position('zero')\n",
    "    ax.spines['left'].set_position('zero')\n",
    "    ax.spines['top'].set_color('none') \n",
    "    ax.spines['right'].set_color('none')\n",
    "    ax.spines['left'].set_color('white')\n",
    "\n",
    "    b = 1\n",
    "    xp = np.arange(0,1,0.01)\n",
    "    xt = np.arange(0,b+0.1,0.5)\n",
    "    yt = np.arange(0,b+0.1,0.5)\n",
    "    plt.xticks(xt,['0', '', '1'])\n",
    "    plt.yticks(yt,['', '', '1'])\n",
    "    # ax.autoscale_view(True, True, True)\n",
    "    plt.ylim(0, 1.05)\n",
    "    plt.ylabel('f(x)')\n",
    "    plt.xlabel(\"x\"   )\n",
    "\n",
    "    \n",
    "    yp = f(xp, a)\n",
    "    raiz = (a-1)/a\n",
    "    plt.plot(xp, yp, lw = 4)\n",
    "    plt.plot([0,1], [0,1], 'r', lw=3);\n",
    "    if (a>=1): \n",
    "        plt.vlines(raiz,0, f(raiz, a), color = 'orange', ls = 'dashed')\n",
    "        plt.hlines(raiz,0, f(raiz, a), color = 'orange', ls = 'dashed');\n",
    "    ax.text(0.9,0.75,f'a={a}')\n",
    "# plt.vlines(b,0.9*a,b*1.1, color = 'orange', ls = 'dashed')\n",
    "# plt.hlines(a,0.9*a,b*1.1, color = 'orange', ls = 'dashed')\n",
    "# plt.hlines(b,0.9*a,b*1.1, color = 'orange', ls = 'dashed')\n",
    "# plt.savefig('logistico1.png', transparent=True)\n",
    "plt.close()\n"
   ]
  },
  {
   "cell_type": "code",
   "execution_count": 4,
   "id": "4a941d25",
   "metadata": {},
   "outputs": [
    {
     "data": {
      "text/html": [
       "<style> \n",
       ".widget-readout{ color:white; } \n",
       "</style>\n"
      ],
      "text/plain": [
       "<IPython.core.display.HTML object>"
      ]
     },
     "metadata": {},
     "output_type": "display_data"
    }
   ],
   "source": [
    "%%html \n",
    "<style> \n",
    ".widget-readout{ color:white; } \n",
    "</style>"
   ]
  },
  {
   "cell_type": "code",
   "execution_count": 5,
   "id": "f819345f",
   "metadata": {},
   "outputs": [
    {
     "data": {
      "application/vnd.jupyter.widget-view+json": {
       "model_id": "20fd1a2a767745b79632632e0b4c61f9",
       "version_major": 2,
       "version_minor": 0
      },
      "text/plain": [
       "interactive(children=(FloatSlider(value=1.5, description='a', max=4.5, min=0.8), Output()), _dom_classes=('wid…"
      ]
     },
     "metadata": {},
     "output_type": "display_data"
    }
   ],
   "source": [
    "widgets.interact(logisticupdate, a=(0.8, 4.5));"
   ]
  },
  {
   "cell_type": "code",
   "execution_count": null,
   "id": "98d7b5e8",
   "metadata": {},
   "outputs": [],
   "source": []
  },
  {
   "cell_type": "code",
   "execution_count": null,
   "id": "b95733c9",
   "metadata": {},
   "outputs": [],
   "source": []
  }
 ],
 "metadata": {
  "kernelspec": {
   "display_name": "Python 3",
   "language": "python",
   "name": "python3"
  },
  "language_info": {
   "codemirror_mode": {
    "name": "ipython",
    "version": 3
   },
   "file_extension": ".py",
   "mimetype": "text/x-python",
   "name": "python",
   "nbconvert_exporter": "python",
   "pygments_lexer": "ipython3",
   "version": "3.7.10"
  },
  "widgets": {
   "application/vnd.jupyter.widget-state+json": {
    "state": {
     "20fd1a2a767745b79632632e0b4c61f9": {
      "model_module": "@jupyter-widgets/controls",
      "model_module_version": "1.5.0",
      "model_name": "VBoxModel",
      "state": {
       "_dom_classes": [
        "widget-interact"
       ],
       "children": [
        "IPY_MODEL_248c4f2920df4d03926b57acc09bd3a0",
        "IPY_MODEL_64159341cc8c42eaa34edd93a26dd837"
       ],
       "layout": "IPY_MODEL_262ff974ef2c45e7806f7f9c93559b17"
      }
     },
     "248c4f2920df4d03926b57acc09bd3a0": {
      "model_module": "@jupyter-widgets/controls",
      "model_module_version": "1.5.0",
      "model_name": "FloatSliderModel",
      "state": {
       "description": "a",
       "layout": "IPY_MODEL_53df3606e7e04ce4bfbe6e408d4a7e96",
       "max": 4.5,
       "min": 0.8,
       "step": 0.1,
       "style": "IPY_MODEL_a5503f559042479882f38f32f410df3e",
       "value": 1.5
      }
     },
     "262ff974ef2c45e7806f7f9c93559b17": {
      "model_module": "@jupyter-widgets/base",
      "model_module_version": "1.2.0",
      "model_name": "LayoutModel",
      "state": {}
     },
     "53df3606e7e04ce4bfbe6e408d4a7e96": {
      "model_module": "@jupyter-widgets/base",
      "model_module_version": "1.2.0",
      "model_name": "LayoutModel",
      "state": {}
     },
     "589a2ab96dad4131b071b346cbe9b444": {
      "model_module": "@jupyter-widgets/base",
      "model_module_version": "1.2.0",
      "model_name": "LayoutModel",
      "state": {}
     },
     "64159341cc8c42eaa34edd93a26dd837": {
      "model_module": "@jupyter-widgets/output",
      "model_module_version": "1.0.0",
      "model_name": "OutputModel",
      "state": {
       "layout": "IPY_MODEL_589a2ab96dad4131b071b346cbe9b444",
       "outputs": [
        {
         "data": {
          "image/png": "iVBORw0KGgoAAAANSUhEUgAAAngAAAIaCAYAAACzqzBrAAAAOXRFWHRTb2Z0d2FyZQBNYXRwbG90bGliIHZlcnNpb24zLjQuMSwgaHR0cHM6Ly9tYXRwbG90bGliLm9yZy/Z1A+gAAAACXBIWXMAAAsTAAALEwEAmpwYAAB4J0lEQVR4nO3dd3xT1f/H8VdG053uFhAEwQGigqL+FHGAe4tbpovlwr39uicOFBdDhqIiKiCouAEVJ4Ki4kAEUYHuvdI2+f1xm5DYAm1pe2/a9/PxuA/JSXr7IYbbd8+55xwb4KMBfD6fDcBmszXo9bJjek9bh95n8+i9b116v1uHz+ez6T1uffp8N46NBgY8EREREQkPdrMLEBEREZHmpYAnIiIi0sYo4ImIiIi0MQp4IiIiIm2MpQPeAw88wOTJk80uQ0RERCSsOM0uYHv22msv9thjD7PLEBEREQkrlu7BKywsxO12m12GiIiISFixdMDLyckhPT3d7DJEREREwoqlA15WVhbR0dHEx8ebXYqIiIhI2LB0wMvMzAQgIyPD5EpEREREwkdYBDwN04qIiIg0nKUDXn5+PgBJSUkmVyIiIiISPiwd8IqKigA0k1ZERESkESwd8EpKSgCIjY01uRIRERGR8GHpgFdcXAygWbQiIiIijWDpgFdSUoLX6yUhIcHsUkRERETChqUDntfrpbCwUJMsRERERBrB0gEPjIkWmmQhIiIi0nCWD3ilpaXExcWZXYaIiIhI2LB8wCsrKyMmJsbsMkRERETChuUDnsfjweVymV2GiIiISNiwfMCrqanB4XCYXYaIiIhI2LB8wPN6vdhsNrPLEBEREQkbrRLwli9fzsiRI1vjW4mIiIi0ey0e8J566in69+/PHnvs0aSvV++diIiISOO0aMDbb7/9GDduHJs2baJHjx5NOofD4aCmpqaZKxMRERFpu5wtefJevXqxYMECtmzZwsCBA+t9Tc+ePenZsyder5fKykoKCgooKyvj77//pqSkhIiIiMCetCIiIiJWtTtQCfxtdiG1fC19TJgwwbdhw4Z6n7vrrrt827N582bfW2+91eI16tChQ4cOHTp0NPU4GXwF4PsGfJEWqKdVJln4fL4mr2XncDjweDzNXJGIiIjIznMAdwFvAwnAQcBEE+vxa9EhWr8NGzZgt9efJX/99VcWLFiAw+EgMjKSpKQk4uLi6NKlC1FRUdhsNgU8ERERsZyOwGvA4UFtfwFTzSknRKsEvISEBNxud73PzZkzhzlz5mzza//66y8qKytbqjQRERGRRjsNmAEkB7V9BJwP5JpSUahWGaLNzs4mIiKiSV8bGxtLaWlpM1ckIiIi0njxwBTgLbaGuxrgDuAErBHuoJV68IqLi6moqGjS18bHx1NSUtLMFYmIiIg0zv7A60Dwwm9/ASOAT02paNtapQfvtddeo2PHjo3+Orvdjsvlory8vAWqEhEREWmYK4AvCQ13b2CEPquFO2ilHjygSb1wkZGRALoHT0REREyRCEwHBge1FQFjgG3PIDBfqwW8poiOjgagrKzM5EpERESkvTkII8R1D2pbCZwH/GFKRQ3XKkO0TRUfHw+gnSxERESkVY0HPic03D0JHIr1wx1YvAcvNjYWUA+eiIiItI5kYBqhQ7KFwCXAm6ZU1DSWDni6B09ERERay6HAXKBzUNu3wLnABjMK2gmWHqL1L45cVFRkciUiIiLSll2NMRs2ONw9BRxG+IU7sHgPXmpqKgC5uVZZNlBERETaknjgBeCcoLZc4EKM/WXDlaUDnr8Hr6CgwNxCREREpM3ZC1gA9Axq+wpjSPZvMwpqRpYeoo2JiQE0yUJERESa19nACkLD3TPAkYR/uAMFPBEREWlHbMC9GFuOxdW2lQFDMXar8JhUV3Oz9BCtP+BpqzIRERHZWfHAbOC0oLa1GL15q02pqOVYOuClpaWRl5eHz+czuxQREREJYz2AhcDeQW3vAedjrHPX1lh6iLZz5878888/ZpchIiIiYexI4GtCw90jwMm0zXAHYdCDl5WVZXYZIiIiEqYuAiYDEbWPKzB2pXjFtIpah6V78FJTU7UGnoiIiDSaDXgImM7WcLcZozevrYc7sHgPXkJCgtbAExERkUaJBF4idPHi74FTgfZy45dlA57NZiM5OZm8vDyzSxEREZEwkQK8hbHFmN9CYAhQakpF5rDsEG1GRgYRERGaZCEiIiIN0g1YTmi4exIYTPsKd2DhgJeYmAhoH1oRERHZsQMxthnbq/axF7i69vCaU5KpLDtE6w94hYVtdQKziIiINIeTgLlAbO3jCoydKeaZVpH5LBvwkpOTAfXgiYiIyLYNAWaxNdDkAqdjDNW2Z5Ydoo2LM3aIKy1tb6PmIiIi0hDjgZfZGu7WA/1RuAMLBzz/PrRlZWUmVyIiIiJW4l/jbmJQ248Y4e53MwqyIMsO0frvwcvPzze3EBEREbGMCOAFYHhQ2+fAaYASw1aWD3hFRUXmFiIiIiKWEAm8AZwS1PYWcD7GxArZyrJDtPHx8ZSUlODz+cwuRUREREwWA7xDaLibDJyFwl19LBvw3G63eu9ERESEeOBt4OigtvuBsUCNKRVZn2WHaOPi4igpKTG7DBERETFRGvA+sH9Q263Ag+aUEzYsG/BcLhcej8fsMkRERMQknYEPgF5BbTcCE8wpJ6xYNuBFRERQVVVldhkiIiJigt2Bj4CutY9rgNHAdNMqCi+WDXjqwRMREWmf9scYlk2rfezB2HrsDdMqCj+WDXjqwRMREWl/+gAfA0m1j8uAwRhDtdJwlg14drudmhrNjREREWkv+mAMy/rDXR5wEvC1aRWFL8sukyIiIiLtx2HAEiC19nEBMAiFu6aybMDz+XzY7ZYtT0RERJrJcRhDsP6eu3zgWOAH0yoKf5ZNUNXV1Tidlh1BFhERkWZwFrAIY6cKgEyMnrsVplXUNijgiYiIiCmGA68BrtrHfwEDgO/NKqgNsWzA83g8uFyuHb9QREREws61wIuAo/bxLxjh7g/TKmpbLBvwSkpKiIuLM7sMERERaWYPAo8FPf4BOAL4x5xy2iTLjoEWFRURHx9vdhkiIiLSTBzAFODioLZPgdMxZs1K87FswCssLCQxMdHsMkRERKQZxAJzgFOC2t4CzgMqTamobbPsEG12djYulwu32212KSIiIrITOmD01AWHu+kYM2gV7lqGZQNeTk4OAGlpaTt4pYiIiFjVPsBXwAFBbQ8AlwDar6rlWDbgZWdnAwp4IiIi4eo4YDnQtfZxNTAKuM20itoPywa8zZs3A9CpUyeTKxEREZHGGg28A/hvtCoCTgammVZR+2LZSRb+Hrzk5GSTKxEREZGGcmAsgTI+qG0jxv13P5pSUfvk9Pl8NpvN5jO7kP8qKysDIDY21uRKREREpCESMWbKHh/UtgI4DdhsRkHtmN2K4Q6gtLQUUMATEREJB3tiTKYIDndvYCxgrHDX+ix7D57H46GiooKEhASzSxEREZHtOBH4GtgrqO0e4Fyg3JSKxLIBD4zFjhXwRERErMkG3AW8jTE8C1CGEezuBCw5RNhOWHaSBUB5eTnR0dFmlyEiIiL/kQK8hNF757cROANYZUZBEsLSPXh5eXmkpKSYXYaIiIgEORT4jtBw9xFwIAp3VmHpgJebm0tSUpLZZYiIiEitazG2Hesa1PYgxuSKbFMqkvpYeoi2tLSU9PR0s8sQERFp9xKAmRhDsH75wHCMBY3FWiwd8AoLC0lMTDS7DBERkXbtYOA1oFtQ21cYkyn+NqMg2SFLD9EWFhbidrt3/EIRERFpEVcBnxEa7p7AWN9O4c66LN2DV1ZWRkxMjNlliIiItDtJwBTg7KC2fOBSYJ4pFUljWD7gRUZGYrfb8Xq9ZpcjIiLSLpwETAU6BbV9izEku8GMgqTRLD1Em5+fD6ClUkRERFqBE3gcY9JEcLh7BhiAwl04sXTAy8vLA9BECxERkRa2D/AlcE1Q2xbgNOAKwGNGUdJklg545eXGDnbazUJERKRl2DDWtluBsVCx31tAb2CRGUXJTrP0PXglJSUAxMXFmVyJiIhI25MKzABOCWqrAG4HHjOlImkulg54ubm5AKSlpZlciYiISNsyAGNtu+B77b4DhgG/mlKRNCdLD9FmZxubnqSmpppciYiISNvgAO4AlhAa7iYAh6Bw11ZYugdPQ7QiIiLNZxdgLtA/qC0Ho9fufVMqkpZi6R68iooKAKKiokyuREREJLwdC6wiNNx9BuyPwl1bZOmAV15ejsfjISEhwexSREREwpINuBV4D/Df0V4N3AIcBfxjTlnSwiw9RAtQXFys/WhFRESaIAV4CTgxqG0TcD5G7520XZYPeBUVFRqiFRERaaQDgTeBXYPalmCEuyxTKpLWZOkhWlDAExERaazRwHJCw90jwHEo3LUX6sETERFpIyKAScCYoLZ8YDjG/rLSflg+4FVVVREREWF2GSIiIpaWAryBMXHCbxVwNvCnGQWJqSw/RKuAJyIisn09ga8JDXevYCyJonDXPingiYiIhLEjgS+BHrWPvRhLoAzF2FdW2ifLD9F6vV7sdsvnUBERkVZ3ATADiKx9XAoMARaaVpFYheWTk8/nw2azmV2GiIiIpVyHMQzrD3ebgAEo3IkhLHrwFPBEREQMduAx4Oqgtp8xFjP+24yCxJIsH/BERETEEAHMBs4NalsKnAEUmlCPWJflh2jVeyciIgKxwCJCw90bGD13CnfyX5YPeHa7Ha/Xa3YZIiIipknF2Gbs+KC2pzDCnmbKSn0U8ERERCysE/A5cFBQ253AeMBnSkUSDix/D15ERARVVVVmlyEiItLqugAfAXvWPq4BxgFTTatIwoUCnoiIiAXtAywGOtc+9mCscfemaRVJOLH8EG1UVBQVFbrDQERE2o/DgM/YGu4qgfNQuJOGs3zAi4uLo6SkxOwyREREWsVJwAdAYu3jIoyZsgtMqkfCk+WHaKOioigvLze7DBERkRZ3DsbuFP4fzlswZs6uNq0iCVeW78GLiYmhrKzM7DJERERa1KnAy2wNd38Ch6NwJ01j6YDndDqJiYmhqKjI7FJERERazNkY99dF1D5eg3Ef3h+mVSThztIBz+12A1BYqDW6RUSkbRoOzGFruPsDOBZjeFakqSwd8OLj4wE0yUJERNqkK4AXAUft41+AI4FNplUkbYWlA15sbCwApaWlJlciIiLSvK4DJgU9/gE4AoU7aR6WDnhxcXEAFBcXm1yJiIhI87kDeDTo8RfAQCDHnHKkDbL0MinJyckAFBQUmFuIiIhIM3Bg9NqNC2pbCpwCaKxKmpOlA15iYiIA+fn55hYiIiKykyKBV4HBQW0f1D7WYmDS3Cw9RBsdHQ2ghY5FRCSsxQDvEhruXsbouVO4k5Zg6YCXkpICqAdPRETCVwLwPjAoqG0CxvIoVaZUJO2BpYdok5OT8Xg8WuhYRETCUgZGuOsT1HYz8LA55Ug7YumA53a7Fe5ERCQsdccId7sHtV0NPGlKNdLeWDrgZWRkkJ2dbXYZIiIijXIQ8DaQXvu4GrgYeMm0iqS9sfQ9eMnJyeTkaFUgEREJH2diLH3iD3flwFko3EnrsnQPXnx8vAKeiIiEjRuAR4Ie5wKnYSxkLM2rc+fOdOzYkW+//TakvXfv3vTr1w+Xy4XL5aKqqoqUlBTsdjvz58/nl19+Mani1mXpgJeUlMTatWvNLkNERGS7XMBzGMOwfmuBk4A/TKmobXM6naxatYp///2Xvn37hjy3aNEiunTpQlZWFl6vl+joaOx2O16vl82bNyvgWUFiYqKWSBEREUtLA+YBA4LalmEM1eaZUlHbN23aNJKTkykpKanzXFFREcuWLeOYY44xoTLrsPQ9eHFxcfX+zxMREbGCPsC3hIa7GcBxKNztiMvl4pdffuHYY49t1NfFxcUxfPhwHnnkEdLS0uo8n5+fT0ZGRnOVGbYsG/BcLhdRUVFaJkVERCxpKMa9dV1rH3sx7sG7GPCYVVQYeeSRR+jZsyfz588nKiqqwV9XUlLC/vvvz4MPPljv123cuJH4+HiuuOIKfv31V4qKisjJyWH58uWMHDmyOf8Kluez4rHrrrv6fD6f75JLLjG9Fh06dOjQocN/RIDvGfD5go4C8J1kgdrC5bDb7b6ysjLf999/76usrPStXLky5Pk333zTV1hY6CspKfGVlpb68vPzffn5+b7CwsLAazp06ODzer11zv3OO+/4vF6vr7S01Dd//nzfxRdf7Lvuuut8n376qa+mpsb31FNPmf73b43Dsvfg+bcp0yxaERGxio7AXEKHZH/B2GP2N1MqCk8TJ04kKiqKwYMHs99++zF//nxeffVVLrjgAgAeffRRvvrqKyoqKvD5fOy6666Ul5ezcuXKwDm2dQvXhAkT+Pnnn7nxxhtD2h977DFmzpzJkCFDuOqqq1ruL2cRlh2idbvdABqiFRERSzgSWEVouHsNOBiFu8ZIT0/n8ssv5+2332b9+vW89dZbXHPNNZx33nlce+21AJSXl7N582Y8Hg+RkZHExcWxxx57MGTIEJxOo2+qpKQEn89Hp06dQs6/dOnSOuHOr7i4mJiYmJb9C1qEZXvw4uPjAQU8ERExlx24EbgPcNS21WDsKfuoWUWFsRdeeAG73c6AAQPIy8sjKyuL2NhYAB5++GEWL17Mfffdx8CBA6mqqsLr9VJWVkZNTQ0+ny9wHrvdjs1mo0uXLmzatKlB3/vss8/mxx9/bJG/l9VYNuAlJSUBUFBQYG4hIiLSbmUALwNHB7VlAhcAS0ypKLw5nU5OOOEE1q5dy7JlyygoKKBz587ExMQwZcoUbrvtNmbPnk2/fv12eC6v14vP56N79+5s3ryZ77//nmuuuYa99tqLq6++mhEjRrBgwQKqq6s56aSTmDJlCm63m1NPPbUV/qbms2zAS0xMBBTwRETEHIdjDMF2DGr7AjgHaFh/kfyX0+lk+fLlXHXVVaxevbrO86tWrWrUEOq8efOYP38+Xbp0oaysjD/++INXX32VPn368OqrrwZ6+aqqqvjqq68YPHgweXntZwEb02d61HfccMMNPp/P54uNjTW9Fh06dOjQ0X4OB/juAV8NW2fJ1tS2OS1Qn46GH1FRUT632216HWYclu3B869tU1FRYXIlIiLSXmQArwIDg9qyMYZkPzalItkZFRUV7TZHWHYWbWxsLBUVFdTU1JhdioiItANHAN8TGu4+BvZH4U7Cj2UDXlxcHKWlpWaXISIibZwNuB4jxHWobfMCd2JsOfavSXWJ7AzLDtFGR0dTXl5udhkiItKG7Qq8iLHGnV8mMAT4xJSKRJqHZQOe0+mkurra7DJERKSNOgWYBSQHtX2JMUtWvXYS7iw7RBsZGUllZaXZZYiISBsTDTwPLGJruKsG7se4D0/hTtoCy/bguVwuPB6P2WWIiEgbsgfwOtAnqO1v4DyM3juRtsKyPXgaohURkeY0BFhBaLh7HWOWrMKdtDWWDXjqwRMRkeaQCLyCseWYu7atAhgNnAvkmlOWSIuy7BBtREQEVVVVZpchIiJhrA8wD+ge1LYWI9h9b0ZBIq3Esj14drsdr9drdhkiIhKmLsHYOzY43L0AHIDCnbR9lu3BAxTwRESk0eKBKcD5QW1FwEUYvXki7YGlA57dbtkORhERsaB9gDeBPYPafgbOBn41pSIRc1g2QdXU1OBwOMwuQ0REwsRZGLNhg8PdZOAgFO6k/bFswKuursbptHQHo4iIWIADeBh4A4irbSsBLgDGAtr0UtojyyaoqqoqIiIizC5DREQsLBWYAxwd1LYWOANYY0ZBIhahHjwREQlL+wLfEBru3gYORuFOxLIBTz14IiKyLWdi3G+3W+1jL3AncBpQYFJNIlZi2S6y8vJyoqOjzS5DREQs5nbg3qDHRcAwYJE55YhYkmUDXmlpKbGxsWaXISIiFhGJsVDx0KC2tcDpwC+mVCRiXZYNeJWVlURGRppdhoiIWEAqMB8YENT2EXAOGpIVqY9l78ErKysjJibG7DJERMRku2Pcbxcc7iYDJ6JwJ7Itlg54TqdTEy1ERNqxQzHC3e61j73AdRjr21WbVZRIGLDsEG1FRQUAUVFRVFVVmVyNiIi0ttMx1riLqn1cBgwB3jKtIpHwYff5fDazi6hPaWkpgIZpRUTaoUswdqbwh7ssYBAKdyINZdkh2qKiIgASEhJMrkRERFrTtcA0tg4xrcUYqv3atIpEwo/dZrP5zC6iPpmZmQBkZGSYXImIiLSWu4DHgh5/BxwO/GlKNSLhy7L34OXl5QGQlJRkciUiItLS7MAzGJMn/JYBpwAlplQkEt4sG/Dy8/MBSE1NNbkSERFpSVHAbOCsoLb3ah+XmVKRSPizbMDbtGkTALvssovJlYiISEuJB94Gjghqmw1chJZBEdkZlp1k4fF4yMrKUsATEWmj4jF66oLD3WPACBTuRHaWZXvwALKysjREKyLSBsVg9Nz1D2q7AXjUnHJE2hxLB7zs7Gw6dOhgdhkiItKM6huWvQJjkoWINA/LDtECbN68WcukiIi0IUnAR4SGu+tQuBNpbpbuwcvPzycxMdHsMkREpBl0AD4A9g1quxZ4wpxyRNo0Swe8wsJC7WQhItIGdAA+BfYIahsDTDGnHJE2z9JDtEVFRURERBAdHW12KSIi0kS7EBruqoGhKNyJtCRLB7zi4mIA4uPjTa5ERESaYhfgE0LD3TnAK6ZVJNI+WDrgFRUVAeB2u02uREREGqs78BmwZ+1jD0a4W2BWQSLtiKUDXkmJsQNhXFycyZWIiEhj9AGWA7vVPvYA56FwJ9JaLD3Jwr8fbXJyssmViIhIQx0GvAP4p8iVA2di7FohIq3D0gEvOzsbgJSUFJMrERGRhjgGeAtjpwqAAuAUjN48EWk9lh6i1T14IiLh4yyMHSr84W4LcCQKdyJmsHTA89+Dp1m0IiLWNgaYC0TWPt4IHA6sNq0ikfbN0gGvrKwMgJiYmB28UkREzGADHgCeZ+sPlN8wwt0fZhUlIta+B8/j8eD1eomKijK7FBER+Y9o4EXg7KC2b4CTgRxTKhIRP0sHPDCGabVMioiIteyCseTJgUFtbwPnA6VmFCQiISw9RAtQUFBAYmKi2WWIiEitQ4BvCQ13TwJnoHAnYhWWD3jl5eW6B09ExCJGAcuAjrWPq4CxwNVAjUk1iUhdlh+iraysJDIycscvFBGRFuMCJgGjg9pyMLYeW2pGQSKyXQp4IiKyXbsAb2AMzfp9DwwGNphQj4jsmOWHaKurq3E6LZ9DRUTapGOBVYSGu9lAfxTuRKzM8gGvpqYGh8NhdhkiIu2KDbgdY//YtNq2auBaYDjG/rIiYl2W7xqrqanBbrd8DhURaTMSMda3OzWobRNwAfCpGQWJSKNZPuCJiEjrOQhjy7FuQW2fYIS7LDMKEpEmsXzXmMPhwOv1ml2GiEibNwr4jNBwNwE4DoU7kXBj+R48p9MZ2JNWRESaXyIwGTg3qC0fuBhjtwoRCT+WD3gRERFUVVWZXYaISJvUD2MJlG5Bbd8DZwLrTahHRJqH5YdoXS4XHo/H7DJERNqc0cByQsPdZIwlUBTuRMKb5XvwIiMjqaioMLsMEZE2IwljV4qhQW0FGEOy880oSESaneUDnsvl0hCtiEgzOQGYzta9ZMEYkj0bWGdGQSLSIiw/RKt78EREdp4LeAJYTGi4ewE4FIU7kbbG8j14sbGxlJaWml2GiEjY2huYBRwY1LYFGAMsNKUiEWlplu7Bs9lsuN1uCgoKzC5FRCQsXQOsJDTcLQL2ReFOpC2zdA9eYmIidrudvLw8s0sREQkrqRjDr6cFtVUCNwJPmVKRiLQmywc8QD14IiKNcCjwOrBLUNu3wIXAGjMKEpFWZ+kh2qSkJADy8/NNrkRExPpswA3AMkLD3UTgMBTuRNoTS/fgJSQkAFBYWGhyJSIi1pYKzAaOD2rLAYYD75lSkYiYydIBLzY2FkCzaEVEtuMI4BVCe+2+xthbdqMpFYmI2Sw9RBsXFwdASUmJyZWIiFjTNcAnhIa7B4ABKNyJtGeW7sFLTU0FIDc31+RKRESsJRqYSuh2YznACIzFjEWkfbN0wEtLSwMgJyfH5EpERKyjK7AA6BvU9gVwDrDJhHpExHosPUQbExNDaWkpPp/P7FJERCxhAMaSJ32D2iYDA1G4E5GtLB3wkpOTtQaeiEitEcDHQFrtYw8wChhb+2cRET9LB7yUlBSys7PNLkNExHR3Y+wn66p9nInRazfNtIpExMosfQ9eenq67r8TkXYtAiPEjQhqWw2cAvxtSkUiEg4s3YOXlpZGVlaW2WWIiJgiGmMyRXC4ex/jPjyFOxHZHksHvPj4eIqLi80uQ0Sk1bmBD4CTgtqmYPTc6aooIjti6YAXFxengCci7Y6brT11fvcAY4BqUyoSkXBj2XvwnE4nsbGxmkUrIu1KIkbP3UFBbVcDT5pRjIiELcsGvKSkJADy8/NNrkREpHUkAB8CBwa1jQOeN6ccEQljlh2iTUxMBFAPnoi0CxnAUkLD3SgU7kSkaSzbg+d2uwEoKioyuRIRkZbVA2NYtntQ22i0xp2INJ1lA5568ESkPegFfAR0qn1cjRHuZphWkYi0BQp4IiIm6Q8sApJrH5cB5wFvm1aRiLQVlg14/iFaLZMiIm3R4cBiILb2cTFwMvCZaRWJSFti2UkWCQkJABQWFppciYhI8zoN4547f7jLBI5C4U5Emo/le/A0yUJE2pKhwCzAUft4C3AEsNa0ikSkLbJsD158fDxlZWV4vV6zSxERaRbjgdlsDXdrMe7DU7gTkeZm6YCn3jsRaSseBCYGPf4R4z689aZUIyJtnaUDniZYiEi4swGPAzcHtS0HjsS4905EpCVY9h686OhoKioqzC5DRKTJIjDWsxsa1LYQYykUXd1EpCVZNuC5XC48Ho/ZZYiINEkk8AZwSlDbG8AFGIsZi4i0pAYN0cbExPDAAw/w22+/kZ2dzcaNG3n11Vc5/vjjW6wwBTwRCVfRwAJCw91zGD13Cnci0hp2GPDOPPNMsrKyuPHGGyktLeWLL75g48aNnHTSSSxevJiCggLGjRvX7IU5nU6qq3UpFJHwkgJ8DJwQ1HYfcBmgNQFEpDX5tnX06tXLV1NT41u8eLEvLi6uzvMHHHCA75dffvF5vV7f0Ucfvc3zNOVYsmSJb+nSpc16Th06dOhoyaMj+NaAzxd03GmBunTo0NH+ju324K1bt44xY8Zw4oknUlJSUuf5lStX0qtXL1avXs0555yzvVOJiLRpewJfAL1qH3uBq4C7TatIRNqz7QY8j8fDtGnTAOjatSs33nhjndfss88+5Obm8r///a/Zi7PZbM1+ThGR5nYIRrjrVvu4GmMyxSSzChKRdq/B6+DFx8dz7733snbtWlJTUwG49dZbWbVqFUceeSRJSUnNWlhNTQ0Oh2PHLxQRMdFg4BOMe+8ASoHTgbmmVSQi0oiA99NPP9G1a1eKiorYtGkTf/75J/fddx8ffvghUVFR/Pbbb81amMfjweVyNes5RUSa03iMpU+iax9nAwOBd02rSETE0KidLLZs2cI999yD3W5nt912AyAjI4OePXs2e2FVVVVEREQ0+3lFRHaWA2P4dSJbL6JrgUOBb02qSUQkWIMDXkxMDMuWLWP+/Pn89NNP7Lvvvtx0003svvvurF69msGDBzdrYZWVlURGRjbrOUVEdpYbeBu4Iqjtc4z78NaZUpGISF0NDnhXXXUV/fv35/bbb6dv37789NNPTJgwgaSkJJ599ll+//33Zi2soqKCqKioZj2niMjO6A58Segad3OAY4A8UyoSEanfDgNeYmIiAA899BARERE88MADIc97vV5KSkro379/sxZWVVWF02nZndREpJ05Evga2Duo7R5gCFBpSkUiItu23YDXt29fsrKyOO+887b5moceeogbb7yRDh06NGthFRUVREdH7/iFIiItbAzwIZBa+7gCGArcibGiqIiI1Wy3i+z7779n7ty5vPrqqzzwwAPMmDGDX3/9lc6dO3PyySfTv39/oqOjee+997j33nubtbCSkhLi4uKa9ZwiIo3hAp4GRgW1bcZYGuVrUyoSEWm4HW53cfTRR/t+/vlnX3V1tc/n8/m8Xq8vMzPTN3fuXF+vXr1aZIuN22+/3efz+XxOp9P07T506NDR/o5dwfcVoduOrQDfLhaoTYcOHTp2dDToJrePP/6Y3r17A+ByufB4PA35sp1SXFwMQFxcHAUFBS3+/URE/I4DXgWSg9pewhiqLTelIhGRxmnwLNrjjz+evLw8PB4PK1eu5Oijj27JugJ732qYVkRaiwNj79jFbA13VRgLGo9A4U5EwkeDp6lu3LiRxMREOnToQJ8+fdh1111bsq5AD158fHyLfh8REYBOwCsYs2X9/gHOxVgaRUQknDS4B2/dOmMJT4/HQ3V1dSCAtRT/+d1ud4t+HxGRQcBKQsPdx0A/FO5EJDw1aqsyMIZO7XY7DoejJeoJKCsrA4wdNEREWoIDY6mTD4GM2rYa4H8Y9+FlmVSXiMjOavAQbY8ePQA48sgjsdvtXHHFFVx66aVER0fz888/M2bMmGYtrLS0FIDY2NhmPa+ICBhDsq8BA4LaMoHzgGWmVCQi0nwaFfBsNhsffPABAIcddhgej4eysjISEhKaXEDPnj3p2bMnXq+XyspKCgoKKCsrC/QQKuCJSHM7EZjB1l47gCXABRghT0SkLWjQeip2u9132WWX+fbZZx9fcnJys63Tctddd/m2Z+HChaavJaNDh462cbjA9ziha9tVg+8W8NktUJ8OHTp0NNfR4B48r9fLs88+29CXN5vIyMhW/54i0vbsg7GWXd+gti0YvXZLTahHRKQlOX0+n81ms/nMKuDXX39lwYIFOBwOIiMjSUpKIi4uji5duhAbG6shWhHZaRcCzwDBU7YWAhcDuWYUJCLSwmw+nw8zA972rF+/nmXLlnHhhReaXYqIhKF4YDJGL51fOXATMMmUikREWofTquEOIC8vj9TUVLPLEJEw1Ad4HdgjqG0NcDbwiykViYi0nkavg9eatmzZQocOHcwuQ0TCiB24Afia0HA3FTgIhTsRaR8sH/A6depkdhkiEiYyMPaRfQTwT88qAc4HRgNlJtUlItLaGjyL1gybN28mPT0dm82Gz2fZkWQRsYCBwMtAx6C2FcBQ4HdTKhIRMY/le/AcDgfp6elmlyIiFmUH7gM+Ymu489a2HYrCnYi0T5bvwQNIT08nM1Pry4tIqFSMXrvjgtqyMHrtPjKlIhERa7B0wMvNNVaoSklJMbkSEbGaQ4C5QJegtg+AkRgLGIuItGeWHqItLCwEwO12m1yJiFjJFcCnhIa7ezH2mFW4ExGxeA9eWZkx5027WYgIQBTwHMbOFH55wAjgHTMKEhGxKEsHvNLSUgBiYmJ28EoRaeu6APOBfkFt3wDnABtNqUhExLosPUTrD3jqwRNp347EWPIkONzNAI5A4U5EpD6WDngaohWRyzFmxPoXS6oCLgMuBirNKkpExOIsPURbWVmJ1+slOjra7FJEpJU5gaeBMUFtWzCGZD83pSIRkfBh6YAHUF5ernvwRNqZROAN4Oigtm+AwcAmMwoSEQkzlh6iBeM+PA3RirQf3YAvCA13L2Pch6dwJyLSMJYPeCUlJcTFxZldhoi0goOBr4FeQW23A8OAClMqEhEJT5Yfoi0rK9M9eCLtwOnAK4D/hoxKjF0pXjOtIhGR8GX5Hrzy8nIFPJE2bjQwj63hLgdjiFbhTkSkaSwf8DweD5GRkWaXISIt5G5gMlsvRn8AhwLLTatIRCT8WX6I1uv1YrdbPoeKSCM5gGcxeu/8VmDsJ5tjSkUiIm1HWAQ8m81mdhki0oyigTnAaUFtizHWuCs1pSIRkbbF8l1jNpsNn89ndhki0kwSgQ8JDXcv1j5WuBMRaR6WD3h2u10BT6SNSMTYduywoLaHgAuBahPqERFpqyw/RKsePJG2IQN4D+gb1DYeeMqUakRE2jbLBzyHw0FNTY3ZZYjITkgFPgZ6B7VdAkw3pxwRkTbP8kO0kZGRVFZWml2GiDRREvABW8NdNcYCxgp3IiItx/I9eFFRUVRUaJMikXCUijGhom/t4xqMbce0gLGISMuyfA9eREQEVVVVZpchIo2UgtFz1zeo7RIU7kREWoPlA57L5cLj8Zhdhog0QkdgKbB/7WMvxrDsLLMKEhFpZyw/RKsePJHwshvGsGyP2sde4GKMte5ERKR1WD7gRUdHU15ebnYZItIAvTHCXcfax1UYPXevmlaRiEj7ZOmAZ7PZcLvdFBQUmF2KiOzAIcA7QHLt43KMrcfeMa0iEZH2y9IBLy4uDrvdTmFhodmliMh2HAG8C8TWPi4CTgU+Na0iEZH2zdKTLBITEwEU8EQs7ARgMVvDXRYwEIU7EREzWTrgpaamApCbm2tyJSJSnwuAhUBM7eNNwABgpWkViYgIWDzgJSUlAQp4IlZ0DfAKEFH7eD3GUO1a0yoSERE/Swc8fw9eXl6eyZWISLCHgMeDHv+E0XO3zpxyRETkPyw9ycJ/D15+fr65hYgIAA7gGWBMUNvnwGmA/pWKiFiHpQNeTIxxZ09paanJlYhIDDAHY3as3wLgfKDSjIJERGSbLD1Em5GRgcfjoaioyOxSRNq1DGAJoeHuJYx17hTuRESsx/IBLysrC5/PZ3YpIu1Wb+Br4OCgtgcxdqioNqUiERHZEUsP0Xbs2JEtW7aYXYZIu3UixrCsu/ZxDXAl8JxpFYmISENYugcvPT2dzZs3m12GSLt0PbCIreGuGGOIVuFORMT6LB3w0tLSyMnJMbsMkXYlGmN9uwkYs2YB/gIOw9ixQkRErM/SQ7Tp6elkZWWZXYZIu9EdeBPoG9T2OXAWxhZkIiISHizbg5eQkEBkZKQCnkgrOQ5YQWi4ew4YhMKdiEi4sWzAS09PByAzM9PkSkTaNjtwK/AukFTbVgmMAi4DqkyqS0REms6yQ7Rut3Frd2FhocmViLRdHYEXgWOC2v4BzgS+NaUiERFpDpbtwUtISAAU8ERaygnAakLD3afAgSjciYiEO8sGPH8PXnFxscmViLQtTuBxjBmxqbVtXuBejPvtdFOEiEj4s/wQrbYpE2k+XYDXgEOD2v4FhgLLTKlIRERagmV78PxDtAUFBeYWItJGnAesIjTcLcSYNatwJyLStlg+4KkHT2TnRALPY2w5llLbVg3cAJwOaClxEZG2x7JDtHFxcVRWVlJdre3MRZpqX4xdKfYJavsLGIaxgHF7YLPZiIyNIdodT3R8PFHxcURGRwfa4lOSiYyNISo21niNO56IyEickS5cUVHY7XZqamqo8VRR5amkprqa6opKKsvKqSwrw1NeQVlREWWFRZTmF1KSl09xTi5FOTmU5hXg8/nMfgtEpB2ybMCLiIigqkorcIk0hQ24BrgfiApqfxUYg7GvbDiz2WxEu+NJ7JBB8i4diUtJJjYxgdikROKTk4hLScadmoI7LZWo+DjsdnMGK6qrqijYkknB5kxy//6XrA0byVy3nqz1f5G3aTM+r9eUukSk7bNswIuMjKSiosLsMkTCTjIwGzgxqK0UuA6YbEpFDedwOolPTSE+JZmEjDTjz8lJxKem4E5LwZ2Whjs9lfjkZBwRlr18BTgjIkjt0pnULp3Z/eB+Ic9VezxkbdjIlrXr+PfXtfz90xr+WfMblWVlJlUrIm2JZa+QsbGxlOlCJ9IoAzB66ToHta0EhgC/mVKRITImhriUZFI6dyI+JZlodzyxiQnEp6WQ3KkjSR07BNrbC6fLRac9d6fTnrtzwMnHA+D1esnd+A//rPmVv1b/zLoVq9j8+x8a5hWRRrNswIuKilIPnkgD2YE7ag9HUPtDtW0tfSdrbFIi7rQUUrt0JqVLZ5I6dSCpQwZJnTqQ2CGDmAR3C1ewfZVl5ZQXF1NeVExFcQkVZWV4ysqpKC6hODePipISyktKqSguobyoGE95OdVV1XjKyvD5fNjsdpwREURERWF3OoiIjDTu24uJwRUTTYw7npjAEHEy8anJuNNTiXE37u9tt9tJ67Yrad12Zf+TjgOgNL+ADd//yIYffuSPb77j759+UeATkR2ydMArLy83uwwRy+sIvAwMDGrLBUYC7zTj93G6XKR160Jat6506N6N9N26ktptV9K6diEqNrYZv1PDVJSUUpSdQ96/mynMyqa0oICygtpJDnn5FGfnUpSdQ2lBId6amlavD8AVHU1ih3SSO3civVtX0rt3JWO3bqR125X4lOQGnSM2KZHeAw+n98DDASjKzuGXT79g7dcrWLdiFUXZmgctInXZAEv+Kvj+++/jdrs59NBDd/xikXbqRGAWkBbUtgxj4eJ/d+K87vQ0Ou3Zgw49utNxr93ptNceZHTvhsPZsr8Ter3eoFmouRRl5VCcm0dJbl7t42wKs3MozsmlqqKyRWtpaTEJbjrs0YNOe/agS++96bJPL9K67droCSFb1q3n5yWfsWbZcjb++LNpYVZErMWyAe+TTz7B6XRyxBFHmF2KiOU4MbYWuzmozQvcU9vemLmZkTExdN57L3bdrzede+1Ft/33IzEjvRmrNSYUlOTlk79pC/lbMikvKqa0oJDS/HwKtmSR+88mirJzKCssatczS13R0XTaaw923W9vevTrS4+D+hEdH9fgry/Jy+fHT5bx2/Kv+f2LbzRhQ6Qds3TAs9vtHHXUUWaXImIpXYC5wCFBbf9irG23tAFfHxUfx+4H9WOPQw6kx4H7k9Fjt51eRqSyrIzCzGwKtmSS/dff5P2zifwtmeRv2kzBliyKc3J131gT2Ox2OuzenW5992X3g/vR87BDiIpr2HB4VWUla5YtZ/WHS/h1+VdUFJe0cLUiYiWWDXhLlizBZrMp4IkEORl4EWMpFL/FwAi2vSOFzW6nW5992GvAIex16P/Ree+9sDsc23j19uX9u5ms9X+Rtf4vtqz7k+y//iZ7/V8U5+Y16XzSOI6ICHoc2JfdDzbCeZfevRq0XExNVTV/fLOC1R8v48ePllKaX9DyxYqIqRTwRMKAA3gQY3sxv2rgVuBR6v4jdkREsOchB7HvMUex95GHNfiGfr+qiko2/baWLX/8yeY//mTTb2vZ9NtayovCfYnktiXaHU+vww+l1xGH0WvAoQ1aZqamupo/vvmOH97/mNUfLdX/U5E2yrIBT/fgiRhSMda2OyaobSNwPvBlUJvd6WDPQw6i7wnHss+gIxp875bX6yV7w0Y2/riGv3/+hb9//oV/1/xGjbYJDCtOl4seB+7PXgMOYZ+Bh5PSeZcdfk1NVTV/fPsdK9/5gB8/Xkplqe7ZE2krLBvwPvroI6KiohgwYIDZpYiYpg/wFtA1qO0djCFZ/6Bo57170u/UE+h38vHEJiU26Lyb167j96++Ze1XK1i/6gfdn9UGde2zD/sMOoLeRx1ORvduO3x9VWUlPy/9nJVvv8evy7+mRltFioQ1ywa8Dz74gLi4OPr37292KSKmOAvjfruYoLY7MWbJxiYnceBpJ3HQGSfTocduOzxXeVExv3z2Bb989gW/f/UtJbn5LVO0WFL6bl3Z79iB9D3hGDru0WOHr68oKeXnpZ+xYuFi/vjmOy29IhKGLBvw3n33XVJTUzn44IPNLkWk1d0G3Bf0uBBjbbtfD9yf/uefxb6DjtzhzfXFuXn8+NFSfvx4Keu+XaUhVwGMsNf3hGPoc/zRDfrloDg3j9UfLmHV4g/ZsGq1ZkOLhAnLBryFCxfSuXNnDjjgALNLEWk1EcBUjF0o/NbabPzvhGPoPGrkDntfygqL+OHDT/h+8UesW7GqXa8pJzuW0b0b/U49kb4nHENK5047fH1hZjbfv/8R3739Hv/+8nsrVCgiTWXZgDdv3jx233139ttvP7NLEWkVCcCbwNFBbT927cIHkydi22XbP3xrqqr59fMv+e6d9/npk09175Q0Sbe++9HvlOPZ5+gjcaem7PD1W9atZ9W7H7Dq3Q/J/Wdn9k0RkZZg2YD32muvsd9++9GrVy+zSxFpcbsA7wH7BLX9eOapfHz7jXi3MRSbtf4vvnrjLb57+z1K8nRPnTQPm91OjwP3p98pJ7Dv0Uc2aOmVv374ie/efo/v3/uI0oLCVqhSRHbEsgFv1qxZHHHEEey2247vEREJZ32At4HOQW2fXzmGb0aNBJst5LU11dX8vOQzPn/1DdZ9u7I1y5R2yBERQc8Bh9D3hGPofdQAImNitvv6mqpqfvvya1a+/T4/Lfk07PcLFglnlg14U6ZM4ZRTTqFTpx3fFyISrgYCCx0O4mpnKdY4Hbx/7x38esrxIa8rzs3j6zcXsvy1eRRlZZtQqbR3EVGR9D7qcPqdcgJ79f+/HU7yqSgp5cePl7Jq8Uf8/uU3uh9UpJVZNuA9/fTTnH/++aSmpppdikiLuGyPHjy5/i+ctbNbK+LjePux+9l46NaZ43/98BOfvTyX1R8u0SxYsYzYxAT2O3YQ+590LD0O3H+Hry/MzGbVex/y40fL+OuHHzUTV6QVWDbgPfLII1x++eXELNj2xtqjp8HUJcafRw2EKZdu+3y2oVv/vOI+6LeNkd8pn8CYF4w/H9ANvrt/2+fsdxus3GD8efIlMHpQ/a/7bj0cePvWx76Xt31O/Z22/rmt/p127bU7G1f0Y/+HX8de26tRkp7Km89PJHePHnhravjhg0/4/OXX2fDDj9s+sYgFJHXswAGnHM8BJx/foGVXCjKzWLFwMV/PW0jeP5taoUKR9mnHu1SbpKysjJiYGCycQUUaJbFDBr/1vYSyj/I5fOJzgfb8XTvz5pSnKNqlI6s/Wsrip54na/1fJlYq0nD5m7fw8dRZfDx1Fp322oN+p5zAAaccv82ZuIkZ6RwzaiTHjBrJhh9+ZMVbi1n57vvaJk2kmVk2Pd144408/PDDxMTEUF5ebnY5Ik2W1LEDgy4ZzsFnnMxRz77AwdNfCjyX1XMP5j03kY4RPzH2wsls+eNPEysVaR52h4Pu/frS75QT2O+4gUTFbnskBqCyrJwf3v+Yb+YvYv2q1a1UpUjbZtmAN27cOJ599lkyMjLIysoyuxyRRnOnp3HsmIs4ePApRNhsHHfng/Re+G7g+b8POoCJFw7l+o4v0LF8TchQrkhb4YqOotcRh7HvoCPYuwEzcTevXcdXbyzg+/c/1pZ6IjvBsgFv+PDhvPjii/To0YM//1SvhoSP+JRkjh41kkPOPp2IyEic5RWcfOMd9Fj6eeA1aw7ux9CICL5f/lXgXj8FPGnrXNHR7H/iMRw8+FS69d13u6+trqpi9YdLWP7KG7oXVaQJLHsPXkVFBQDR0dEmVyLSMNFuN8eMGslh559FRFQkAK7iEgZfdi27fL/1B9TCXbtw9opVVGnZCGlnPOXlfD1vEV/PW0RSpw4cdPrJ/N9Zp5GYkV7ntc6ICA446TgOOOk4Nv3+B5+99Bor3/2Aao/HhMpFwo9le/BOOeUUFi1axEEHHcSKFSvMLkdkm1zRURw+7DwGXjSM6Pi4QHtEaSlnjr0mJNw9ZLNxy3+WiFAPnrRnNrudvQ77P/7vzNPofdQAHM5t9zsU5+axYuFivl3wNpl/bmi9IkXCkGV78PwTK9SDJ1bljIzk0LNPZ9ClI+rMGIwqLOTMsdfQ4adfAm1XA0/Ws/7XlE9auFARC/N5vfz62Zf8+tmXJGSk0e+UEzj4jFNI67ZrndfGpyQz8KKhDLxoKOtWrGL5nDf56eNlWiNSpB6W7cE75JBD+PLLLznxxBN57733zC5HJMAZGcmh55zBoIuH4U6ruxB3ZGERZ1x8Gbv8vi7QdiXwdCvWKBLObDYbe/b/Pw495wx6HzUAu8OxzdcWZmWzfM6bfDl3PmWFRa1YpYi1WTbg7b333vz888+ce+65vP7662aXI4LT5eKQs09n0CXDSUhPq/c1Nf9u5tRhl9IzJw8AL3A58HzrlSnSpiR16sCAIefwf2eeFnILxH95yiv46s23WDJ9NkXZOa1YoYg1WTbgde3alQ0bNnDRRRcxc+ZMs8uRdswVHcX/nXU6Ay8cSkJG/cGusqyc76a/xE1TZ3FQ0OSJUcC0HZz/gG7Gf/27bYhIXa7oKPYZdASHnH3GdrdHq6qoZPlrb/LJCy9Rml/QegWKWIxlA15KSgo5OTlcccUVPPPMM2aXI+2QKzqKw84/i4EXDSM2KbHe11SWlfPFa/NYOX02rxcU0D/oudHA1AZ8H02yEGmcDrt3p/95Z9Lv1BO2uYhyRWkpy2a+wtJZr+LRYvnSDlk24DkcDiorK7n//vu58847zS5H2hH/PXZHXzqC+JTkel/jKa9g+Zw3WTJjNpH5BSwGDg56fiwwuYHfTwFPpGmi4uM45KzTOXzYufUutQJQlJPL+89M5et5i/BpaSJpRywb8AC2bNnC/PnzGTdunNmlSDsQ7Y6n/7lnMmDoOdvcR9NTXsEXc+exZMZsSnLz6QK8D/QKek1jJ1Qo4InsHEdEBAefcQrHjrlom7dR/Pvr78y771EtmizthqUD3h9//MFXX33FsGHDzC5F2rDYxAQOH34ehw85l6i4+od7yotLWP7qG3z28lxK8oztk3oD7wGda1/jxei5a8iwbDAFPJHm4XS56H/emRx96QjikpPqfc2KhYtZ9PgkbYMmbZ6lA94PP/zAn3/+yeDBg80uRdqgxIx0jhw5hEPOPh1XdFS9r6ksK+PzV95gyYyXKS/augTDocAiwN/P5wGGAU2Z762AJ9K8ImNjGHjxMI4cfkG9/7bLCotY9NjTfLvgbXz1rE0p0hZYOuB98cUXFBcXc/zxx5tdirQhSR07cPSokRx8xik4Iupf67uitJQv5y5gyYzZdWbinQLMBfxLcBcBZwIfN7EeBTyRlpGQkcYp11zOASfX/zPkz+++57U7HyDnr79buTKRlmfpgPf+++8THx9P//79d/xikR1I7tyJoy8ZwYGnn4QzIqLe15Tk5bPsxTl8MXceFcUldZ6/GJgC+JddzQJOBFbuRF0KeCItq8eB+3PGLdfSac/d6zxXWVbOO088wxevzVNvnrQplg54c+fOpXfv3vTu3dvsUiSMddijB8eOvpB9jzlqm/tcFmRm8emLc/jy9fl4yivqfc1NwENBj/8Ejq39787QOngiLc/ucHDEsPM4/vJR9Q7brl+1mrl3PkDW+r9MqE6k+Vk64E2bNo0TTjiBzp077/jFIv/Ree+eHDf2YnoPPHybr8nZ+A+fTH+JFQsXU1NVVe9r7MDjwPigtu+AkzB68EQkfCR16sCZt13P3kccVue5qopKFk+azKezX9OSKhL2LB3wJkyYwLhx44iL2/b2NCL/ldFjN064fBT7HTtwm6/J2fgPH0+dxYq3F+Otrtnm62KAlzDusfNbApyBce+diISngwefyuk3jq935vyG73/kpRvuoGBLpgmViTSP+serLKKkpITY2FhsNpvujZAdSuyQwXFjL+agwadgt9vrfc2WP/7kkxdeYtXiD/HWbDvYAXQC3gIODGqbCwzHmDXbXCZfYvx3zAvNeFIR2a5v5i/ity++4qzbbqjTy9+t775cO3cmr9x2D79+9qVJFYrsHJvP58Nms1kyPd1000089NBDxMTEUK6tZmQbot3xDLxoGEcMP4+IyMh6X7PxxzV8PG0WP33yaYPOeSBGuOsU1PY4cD3N3+WtSRYi5jrg5OMYfOt1xLjddZ5bPudNFj02iaqKShMqE2k6y/fgAcTGxirgSR02u52DzziZk6++bJt7xW78aQ3vTZrCb1983eDzXgC8wNZlUKqByzFmz4pI27PynQ9Y+/V3nHv3LXXuzTvs/LPY85CDePnmu/j7519MqlCk8exW7b0DyM3NBSAtrf6tZ6T92m3//bh27kzOvfvWesNd1vq/mDH+Zp684JIGhzsHMAF4ha3hLg84HoU7kbauOCeX6VfcwLtPPV/n9o20brtyxYvPc9AZJ5tUnUjjWboHzx/wkpLq33JG2p/4lGROvuYyDjq9/gttUXYO7z09hW8XvrvdyRP/lYpxf13wtIw1wGnAup2oV0TCh8/n4+Ops1j71bcMfehuUnfduoKD0+Xi/HtvZ89DDuLN+x+td51MESup/050i/AP0WoWrdjsdg4fei43vzO33nDnKa9g8aTJPHjyOXw9b1Gjwt0BwApCw91CjO3IFO5E2p+NP67hsbNH8MVr8+o8d8DJx3PDvNnscchBJlQm0nCW7sErLi4GID4+3uRKxEy79NyTs26/ga599qn3+e/efo93n3y+SUsajACeZ+uQrBe4E7gfC68fJCItzlNezpv3TeDP777n3LtvDVkcObFDBmOnPsXnr77BwglPbXMNTREzWTrg5eXlAZCammpyJWKGiKhITrh8NEcMPw+7w1Hn+c1r1zHv/kf587vvG33uWOAZYGRQWwEwDHinSdU23XfrW/kbikiDrVr8IZvXrmPoQ3fRaa89Qp4bcMHZ7LrP3rx43W3kb95iUoUi9bP0QscRERF4PB7uuOMO7rvvPrPLkVbUvV9fzr37VtK6dqnzXHlxCe89PYUvXpu3w7Xs6tMHmAP0DGpbA5wO/NHEekWkbXNERHDCFaM46sKhddbZLC8uYd79E1j5zgcmVSdSl6UDHkBRURHTpk3j2muvNbsUaQVOl4uTxo/lyBEX1Pv8jx8vY94Dj1GUld3oc9uAa4AHAVdQ+yyMZVBKG1+uiLQz3frsywUP/o/ULnW30PxmwdssePAJKsvKTKhMJJSlJ1mAMdFCkyzah4577s7Vc6bXG+7yNm1m2mXXMfPqm5sU7jKAd4HH2BruSjDuwbsQhTsRaZgNP/zIE+ddxM9LPqvz3MFnnMK1b8xi1333NqEykVCWD3gejweXy7XjF0rYstlsHDVyCFfPmU7HPXrUeX75nDd5dPAwfvnsiyad/whgJXBCUNu3GLNnX2rSGZuX7+Wtu1mIiPVVFJcwY/xNzH/wcaoqQ3e4SO3SmStmTeaoC4dis9lMqlAkDAJeRUUFUVFRO36hhCV3ehpjpjzFqddfiTMiIuS5vH838+xFlzHv/kebNOQRidFjt4StW455MRYzPgxYu1OVi0h75vP5+PyV15l4wSVsWRc6U8oR4eTU667g4kkTiK5n+zOR1qCAJ6bpfdQArn/zJfY45MA6z3371rs8dvZw1q1Y1aRzH4DRa3ctWz/k2Ri9eDcCWtRARJrDlrXrmHj+RXz+6ht1ntv7yMO47o1Z7HZAHxMqk/bO8gFPQ7Rtj8Pp5PQbr+biSROITUwIea6ssIhZ197KnNvvpaKk8XfG2YGbgC+B4Ltg3gX6Ah82uWoRkfpVVVQy/4HHmH7VjZQWFIY8l9SxA5dNf4YTrhhd73JPIi3F8gGvuroap9PSy/VJIyR17MBlM5/liOHn1Xlu7VcrePSsYaz+cEmTzr0b8AnwEFsnUhQDlwEnA5uadFYRkYb5eclnPH7OSP764aeQdrvDwbFjLmLstEm407Suq7QOywe8mpoaHPqtp03odXh/rn1jFt367BvSXlNVzdtPPMPk0VdRmNn4GbIA5wHfA0cGtX0N7A8817RyRUQarWBLJs9cOI6lM1+p81yPA/fn2tdnsddhh5hQmbQ3YRHw/ruopIQXm93O8ZeP4uKnJxDznxuO8/7dzNMjx7Bk+mx8vsYvyRgFTMZYuNh/5mrgLoyJFNpLVkRaW011NYsem8Tk0VdRlJ0T8lx8SjKjn3+CU6+/Esd/JpaJNCfLL3S8dOlSfD4fAwcO3PGLxXJiEtwMe+Qe9ur/f3We+3np57x6272UFxU16dw9gVcx7q3zWwsMAVY06YzmGFX70Z7atJFpEbGwuOQkhj50F3seenCd5/795Xdm3/Q/stb/ZUJl0tZZPuB9+umnVFdXM2jQILNLkUbK6N6NiydNIHXX0BXfa6qreXficyx78dUm9doBDMcYeo0NapsDjMa4705ExCpsdjtHjxrJ8eMuqTPRorKsnPkPPsa3C1p7F2xp6ywf8JYvX05ZWRnHHnus2aVII+x7zFGcf9/tRMXGhrQX5eQy+4Y7mrz8iQt4GhgV1FYBXI0xVCsiYlW77b8fQx++m6SOHeo898MHn/DmvY/UmYUr0lSWv7nN4XBQ04QN5cUcNrudk8aP48InHqwT7tav/IHHzxnZ5HDXGVhGaLj7FTiI8A53owZuHaYVkbZr/arVPHrWcFYtrrtgU5/jBnHDglfY+8gBJlQmbZHle/C++eYbcnJyOOmkk8wuRXbAFR3F0IfvZp+BR9R57us3F/LmfROoqa5u0rmPwbjfLniBgZeBMYT/PrL+bcpsQ82tQ0Raz8GDT2XwLdfiiq67kP+Xry9g0aOTmrSDj4if5XvwIiIiqKrSvgNWl5iRzhWzJtcJd9VVVbxx7yPMvevBJoU7G3Az8B5bw101xpDsMMI/3IlI+/TN/EU8cd6F/P3zL3WeO/ScM7h+/mz2+L+6u/yINJQCnuy0znv3ZPyc6ezSa8+Q9qLsHJ676HK+nDu/SeeNA94EHgT8tyVvAgYCTza9XBERS8ha/xdPDRvFe89MpaYq9Bfg5E4dGTttEmfcfA3OyEiTKpRwZvmA53Q6FfAsbPeD+zHuhadxp6aEtP/7y+9MvOBiNvzwY5PO2w34Ahgc1PYp0A/4vGmliohYjre6hg+fn86k4aPrXS7l8KHncu3cmey6X28TqpNwZvmAFx0dTUVFhdllSD0OOuNkRj8/kai40MkUP32yjKdHjm3yrhSHAd8AwftdPA4MArY0sVYRESv7++dfePzckSyd9QperzfkuYzu3bjyxcmcev2V9d6zJ1KfsAh45eXlZpchQWw2GydeNZbz770dR0ToPsFLps9m5tW34Gni/7NhGPvJptU+rgRGAtcBmkstIm1ZVUUlix6dxLMXjiP3n39DnrM7HBw1cgjXvfES3Q/c36QKJZxYPuC5XC48Ho/ZZUgth9PJkIfu4phRI+s8t+jRSbz9xDNNXrz4buAljLXuALIw7rd7sYm1ioiEo/WrVvPYWSP46o236jyXumtnLp/xLINvuVb35sl2WT7gxcbGUlJSYnYZAkTFxTLq+Sc44KTjQtqrKiqZde2tLJ1Vd3PthnABs4H/BbX9BBwMfNnEWsOJbaiWSBGRUJVlZbx+90NMHj2evE2b6zw/YMg5XDNnOp337mlCdRIOLB3woqOjcTqdFBdr8ymzudNSuXzmc3Wm7Rfn5vHsJZez+sOmbaSaDHwIBOebxUB/QLszikh79/uX3zDhjKEsn/Nmnec67N6dq2ZP5ZjRF9bZAk3E0gHP7XYDUNTEzeileXTcswfjX5lGp732CGnP3rCRp4ZeysbVPzfpvLthzJQNXjnvOeBUtJ+siIifp7ycefc/ytMjx5Lz9z8hzzkinJx45RiuemUaHffc3aQKxYosHfASExMBKCgoMLWO9mz3g/txxazJJHbICGnf8P2PPDVsFHn/1h06aIh+GOFur9rHXuB64DLa32SKFfcZh4jI9vi3e/xm/tt1nuuyd0+umTODoy8dic1u6R/t0kos/SlISEgAoLBQmy+boeeAQ7j02cfqLoOy5FOeH3UlZYVN61k9EWNPWf922xXAucBjO1FrOOu3m3GIiOxIZWkZr/3vfqZfeQPFuXkhzzkinJw0fiyjn3+CuOQkkyoUq7B0wPMP0Srgtb6DTj+JiydNIOI/s7Q+e3kuM6++haqKyiaddzjwFuCPjHnAsRg7VoiISMP8vPRzHj1rGN+/91Gd5/Y89GCunTuL3Q7oY0JlYhWWDnixsUYMKC3VjqOt6agLh3L+fXfgcIaucbfosadZ8NAT+P6zCGdDXYux5ElE7eMNGJMptDOFiEjjleTm89INdzDz6pspycsPeS4hI41xLzzNkSMuMKk6MZulA15KirH9VX5+/g5eKc3luLEXc+p1V4S0eb1e5t3/KEtnvtzk8z5A6BDsaoxw91uTzygiIgA/fryMx84ewboVq0LaHU4np91wFZc88yixSYnmFCemsXTAS09PByAzM9PkStqHE68ay/GXjwppq/Z4eOn62+udot8QTmAmcEtQ2zKMmbNNm54hIiL/VZSdw/OXXsnH0+ouDb/3EYdx7euztJ9tO2PpgJeYmEhFRYX2om1hdqeDc++6pc7uFBWlpUwZe02T17iLBRZhbDXmtxA4AdBdlSIizctbU8O7Tz7HtMuvp+w/y4slZqRzxcznGTDkbJOqk9Zm6YDndru1Bl4Lc0VHcdGTD/N/Z50W0l5eXMKUMVez7tuVTTpvMvARRpjzmwqciTFrVraa8olxiIg0h18+Xc7j54xk/arVIe2OCCeDb7mOc+68uc491tL22ICmbRzaCubOncu+++5Lr169zC6lTYpLTuKSpx9l1333DmkvLShkypir+WfNr006b2fgfSD4rHdh7DUrIiKtw+5wcNL4cQy8qO5eiH9+9z0zr7mF0vyC1i9MWoWle/CSk5PJzc01u4w2KaVLZ654cXKdcJf7zyaeHjGmyeFuD4wFjP1n9QLjULgTEWlt3poa3n78aWaMv4mKktDVKLr368v4V6aR0b2bOcVJi7N0wIuNjdUSKS2gyz57c9XsKaR17RLS/u8vvzNp+Giy1jdtF9jdgU8A/1k9wAXA8ztRa3twQDfjEBFpCT998ilPDb20zjZnKZ134crZU9nz0INNqkxakqUDXlxcHCUlJWaX0absM+gILpv+TJ1Vzn/74mueuWgcxTlN6zHdH2M9u861j0uBk4G5O1Fre/Hd/cYhItJSMv/cwMTzL2HtVytC2qPj47j02cfq3Ict4c/SAS8lJYW8vLwdv1Aa5MgRFzDyiQdxRUeFtK9YtJgXLr+eytKyJp13ELAU8O9WWwachjHJQkRErKG8qIgp467myzcWhLQ7nE7OveuWOstkSXiz9DSaxMREBbxmYHc4GHzrdfQ/d3Cd5z6aMpPFkyY3+dynY/TSuWof5wGnYtyHJyIi1uKtruGNux8me/1GTrnuCuz2rf08x429mLikROY98FiTdywS67BsD57T6SQ6Opri4mKzSwlrruhoLp70SJ1wV1Ndzet3P7RT4W4Exh6y/nD3D3A4CnciIla37MVXmXXNLXjKQxeu6n/emQyfcC+OiIhtfKWEC8sGvISEBAAKC7UkblMlZKRxxYvP0+vw/iHt5cUlTLvsOr56460mn/syYBbgqH38O8bWY2uafEYREWlNP33yKc9degWlBaE/Z/scN4hLJj1S53YeCS+WDXixsbEAmkXbRLv02pPxL7/ALj33DGnP+3czk4aP5vcvv2nyue8Fngl6/D1Gz93fTT6jiIiYYePqn3lm5FgKtoRuCbrXYYcwevKTRLvjTapMdpZlA15UlPGbg7Ypa7z9jhvEFbMmk5CRFtL+95pfeWrYKDLXrW/See3AFOD2oLYvgYFAVhNrFRERc2X+uYFJw0aT+eeGkPbd9t+PcS88XWfVBQkPCnhtzKBLhjPysfvrdK3/9Mkynr3wsiYvg+IAXgCC51i9CxwDFDStVKnV7zbjEBExS0FmFs9edBn//vJ7SPsuPffkshnPEp+aYlJl0lSWDXi6B69xHBERnHvXLZx89WV1nlv24qvMvOZWPOXlTTp3JPAGcGFQ24sYM2ibtrCKBFu5wThERMxUkpfPs5dczrrvVoW0Z3TvxrgXniY+JdmkyqQpLBvwEhMTASgoKDC1jnAQl5LEmKlP1lmosrqqirl3PsDCCU81ecp7DEZP3RlBbS9ghL3qJp1RRESsqqK4hKljr+G35V+FtGd078aYqU8Rm5hgUmXSWJYNeJpk0TC79NqTa+bMoEe//UPay4uKmTLmar6et6jJ547DCHeDgtomAJcCviafVf5r8iXGISJiBVUVlbxw5Y38vOSzkPaOe/RgzNSndE9emLBswPMP0aoHb9v2P+k4rnxxCokdMkLaczb+w6QRY1j37comnzsJ+AA4MqjtFuDGJp9RtmX0IOMQEbGKmqoqZl13G2uWLQ9p1z154cOyAS8+3piarYWO63f0pSMZ9vDdRERFhrT/8c13PDnkkibPlAXoCiwHDg1quw54qMlnFBGRcFNTVcWsa2/l96++DWnP6N6NsVOfItrtNqkyaQjLBjy3201NTQ1lZbqNP1hEVCTn33cHJ40fW+e5T196jcmjx1NWWNTk8/fFWPqkV1DbFcDjTT6jiIiEq2qPh+lX3lDnnrwOu3fn4qcexhkZuY2vFLNZNuAlJydTUFCAz6e7vfwSMtK4fOZzHHT6SSHt1R4Pr952L289MhFvTU2Tz3888CnQsfZxJXAeoYsai4hI+7Kte/K69+vLyMfvx+G09Lb27ZZlA15MTIx674J06d2L8a+8QJfevULay4uKmTx6PCsWvrtT5x8NvA341ywvAI4D5u7UWUVEpC2oqarixetvr7OEyt5HHMbwR+/D7nRs4yvFLJYNeBEREVRVVZldhiX0O/VErnjxeRLSQ3em2LJuPZOGj+bP775v8rntGDNjJwP+38E2Aodh9OaJiIiAMVo046qb2PT7HyHt+x59JMMevkchz2IU8Cxu0CXDGfLA/3C6XCHtPy/5jKeGXlpna5nGiAfeAq4PalsBHAKsafJZpbG+W28cIiJWV15UzJTR48la/1dIe5/jBnHmbddv46vEDJYNeE6nk+rq9ruUrt3h4PSbrq53Z4qlM19hxtU3U1na9CHs3YGvgFOC2uZjLIuyuclnlaY48HbjEBEJB8W5eTx36ZXkbPwnpP3Qs8/gxKvqTgAUc1g24LXnHrzI2BguffYxjhh2Xkh7VWUlL91wB4sem9TknSkAjgW+AfYOansQOAttPSYiIjtWlJXNcxdfTu4/m0Lajxk1kgFDzjapKglm2YDncrnweDxml9HqEjtkcMWLk9mr//+FtJcXlzBl7DV8/95HO3X+64DFGAsZA5QDQ4Fb0e4UIiLScAWZWbxw+XWUFoTuGX/6jVezz6AjTKpK/Cwb8NrjEG2nvfZg/CvT6LTn7iHtBZlZPHPhOP5csWobX7lj0cBs4FHAfxvsP8ARwCtNPqs0B9/LxiEiEm4y/9zAlDFXU1GydVtRu8PB8Efvo9fh/U2sTCwb8BwOBzU7saZbuOnWdz8um/Es7rTUkPa/fviJieddxOb/zFpqDP/9dkOD2pYDB2FMqhAREWmqf9b8yuyb7gxZh9UZEcGFEx9kr8MOMbGy9s2yAc9ms+HdifvMwskehxzE6MkTiY6PC2lf/eESnh91JcW5eU0+9ynAt8B+QW3PAwOBLU0+q4iIyFa/fLqc1+8K3dDS6XJx4RMP0q3PviZV1b5ZNuAB7WIXi4NOP4lLn32MyJjokPZlL83hxetuw1Ne0aTzOjGGYxcBibVtFcClwDigfU5fERGRlvLNgrd5455HQtpc0VFc8uyjdNi9u0lVtV+WDng2m83sElrUoEuGc/59d+CMiAhpXzxpMgsfebLJAbcb8BnGhAq/vzAWL36haaWKiIjs0Jevz2fe/Y+GtMW43Vz67GN1bkGSlqWAZwKb3c5Zt99Q7xp3Cx6eyEdTZjb53GcBqzAWK/ZbCPQDVjb5rCIiIg2zfM6bvP/M1JC2pI4dGDPlSWIS3CZV1f5YNuDV1NTgcLS9bU8cEREMn3Av/c87M6S9qrKSF6+/nc9mv9ak80YAE4E32DokWwXcCJwB5DatXBERkUb74PnpLJ/zZkhbh927M+q5J4iMiTGpqvbFsgGvurq6zQU8V3QUFz/1CH2OGxTSXl5UzNSx1/DD+x836by9MRYuHh/Uth4YgLHPbNu/kzG8jZ5mHCIibcmCh57g5yWfhbTtuu/eXPTUwziczm18lTQXywY8j8dDZGSk2WU0m2h3PGOnTqLngNAp4/mbtzBpxBjWNXGNu1EYs2T7BrXNA/bHCH1ifVOXGIeISFviranhxetv549vvgtp3+P/DuS8e29rs7dhWYVlA155eTnR0dE7fmEYiElwM2bqU3Tts09Ie9b6v3h6xFgy1zV+p/lkYA4wBWMRYzB2pbgK4z68wm18nYiISGup9niYftWNbPxxTUh7v1NO4NQbrjKpqvbBsgGvtLSU2NhYs8vYaXHJSYx74Wm67N0zpP3fX37nmQvHUbAls9HnPAhjwkTwTrWrgQOBSTtRq5hj1EDjEBFpiypLy5g67hqy//o7pP3I4ecz6JIRJlXV9lk24JWVlYV9D158SjLjXniaTnvtEdK+7rtVPHPROEry8ht1PhvGfXafA12D2qcC/wesqe+LxPKmXGocIiJtVVlhEVPGXk1Rdk5I+8lXj+Ow888yqaq2zbIBr6qqCpfLZXYZTRafmsJlM56ts7jj2q9XMG3ctVSWljXqfCnAuxgzZf3vSj5wOjAaYxFjERERq8r7ZxNTxl5DeXFJSPuZt11Pv1NPNKmqtsuyAc/j8YRtwItLSWLstEmk79Y1pP235V8x7fLrG707xRHAD8AJQW0rMNa2W7iTtYqIiLSWzb//wfQrb6jzc/D8e2+j98DDTaqqbVLAa2axiQmMnTqJDj12C2lf8+lypl91E9WVlY06343AJ8AuQW0PY+xK0fipGSIiIub687vvmXn1zVRXbd000+5wMHzCvXQ/cH8TK2tbLBvwKisrsdvtOMNorZyo+DhGTZ5Ixz16hLSvWbacmVffQrXH0+BzxWMsWvww4F8NMBs4CbgZaPiZRERErOW3L75m9o3/w1tTE2iLiIzkkkkT6NK7l4mVtR2WDXjFxcUAuN3hsa2JKzqaUc8+Xme27C+ff8nMa26hJug3lR05GGNINvi2088x1rpbvPOlioiImO7Hj5byxj0Ph7RFxcUyevJEOu7ZYxtfJQ1l2YCXm2tsrpWUlGRyJTvmdLm4+KlH6NZ335D237/6lpnjb25UuLsK+AwIHuB9EhgIbGqGWkVERKzi63mLePvxp0PaYhLcjJnyVJ372KVxLBvw8vONJUSSk5NNrmT7bHY7Qx68kz0OOTCkff3KH5hx1Y0NHpZNABZghLngWbLnAVcD1c1Ur1iPbahxiIi0R0tmvMyHU2aEtPmXGUvt2sWkqsKfZQNeYaGxF0NCQoLJlWzfaddfVWdv2Y0/rWHa5dc1eLZsf+B7jCVP/PyzZOc2T5kiIiKW9d6kKSx7aU5ImzstlXEvPE3yLh1Nqiq8WTbglZaWAlh6N4sBQ87hiOHnhbRtWbeeaeOupaKktEHnuBJYBnQLapuIZsmKiEj7svCRJ/nitXkhbYkZ6Yyd9jRJHTuYVFX4smzAs3oP3j6DjuT0m64OaSvMzGbqmKspLdjxTrCRwAzgKcA/TzgPY2LFNWiWbHuy4j7jEBFp7+bd/yhfz1sU0pbSuRPjpj9DUieFvMawbMDzT7JITU01uZK6djugD8MeuRu7fevbV1FaytTLrqUgM2uHX98Z+BS4MKjta4xZsvPqeb20bf12Mw4RkfbO5/Px+t0PsWJR6JoRKZ07cfnM53RPXiNYNuAVFhZSXl5Ox47WGnvP6LEbF096hIjIyEBbTXU1L11/O5t//2OHX384xv11Bwe1TQeOBP6u9ytERETaD5/Xy2t33M+qxR+GtCd17MDl9WwBKvWzbMAD2Lx5Mx06WKdL1p2WyujnnyDmP2vzvXH3w/z6+Vc7/PoxwMdARu3jKuAK4BKgcftbiIiItF3emhpeueVuVr77QUi7Oy2Vy2c+x6777m1SZeHD0gEvPz+fxMREs8sAwBERwYVPPEhih4yQ9nefep5vFry93a91Ak8DzwMRtW1ZwNHAM81fqoiISNjzh7z/3pPnXyevW599t/GVAhYPeEVFRZaZZHHmrdfRtc8+IW1fvDaPj6fO2u7XJWLsPnF5UNtKjCVQPmveEkVERNoUn9fL63c9yOevvhHSHhUXy6jJT7Drfr1Nqsz67D6fz2Z2EdtSVFREfHy82WVw6LmDOeTs00PafvnsC+Y/+Ph2v64H8BVwTFDbHGAA8E8z1ygiItIW+Xw+5j/wGB9ODl0MOSo2ltHPPUGXfTRcWx9L9+Dl5uaSnp5uag17HnoQg2+5NqQtZ+M/vHzzXSGbJP/XYRjhbq+gtv8BFwDlLVCnhK8pnxiHiIhs23tPT2Hx01NC2qLd8Yyd+hTdD9zfpKqsy26z2XxmF7EtW7ZsMTXgJe/SkeET7sPhdAbaKsvKmDH+JsqLirf5dWcCHwH+BV7KgXOBe1uwVglfY14wDhER2b6PJs/gg+dCL5hRcUZPXs/DDzWpKmuydA9eZmYmTqeTlJSUVv/eTpeLkY8/SEzC1hmzXq+XV265my1//LnNrxsLvA5E1T7OBI6qbRMREZGd8/6z0+rsXRsRFclFEx+i1+H9TarKeiwf8ADS0tJa/XufftPVdN57r5C2xU89z0+ffLrNr7kbeI6tb+rvwCHANy1Uo7QNB3QzDhERaZj3Jk3h7SdC16Fwulxc9OTD7Hv0kSZVZS2WDnglJSUAxMXFter37XfqifQ/d3BI2+oPl/DJCy/V+/oIYBbGPXZ+32Dch7ehZUqUNuS7+41DREQabsn02bxxzyMhbY4IJ8MfvY++xx9tUlXWYemAV1RUBID7PwsLt6TOe/fknDtvCmnL2fgPc+6of7NQN8YyKCOC2hYDg4CcFqpRRERE4MvX5/P6PQ+HtDmcToY+cg8DhpxjUlXWoIAXJC45iYuefChkG7KqikpmXXsrlaVldV6fjrGWXfDvCVOB04DSFq5VRERE4KvXFzDn9nvxer2BNrvdzuBbrmXQJcNNrMxclg54ZWVGqIqNjW3x72Wz2Tj/vtvr7FQx964H2PTb2jqv7wQsBfYLarsNGA1Ut1yZIiIi8h/fvvUur956NzXVoT+BT776Mo4Ycb5JVZnL0gHP34PXGosdD7x4WJ3ZN8temsPKdz6o89rdMHruetU+rsYYon2ghWsUERGR+q185wNeuOIGKstCR9xOv2E8h11wtklVmcfSAa+42FhrrqUDXvcD9+eEy0eHtK1ftZq3H3u6zmv7AMuB7rWPq4DzgfqnX4iIiEhr+W35V0y77Doqy0K3FDjz1uvod+qJJlVlDksHvPJy439QTExMi32PpI4dGPHofTgiti5mXJpfwOwb7qizU8WBwBKgo78+4AzgzRarTkRERBrjz+++Z/qVN1BVURnSfv69t9H3hGO28VVtj6UDns/no7y8vMXuwXNERDDi8fuJT0kOaZ9zx/0UZGaFtPXD2J0iqfZxAXA88G6LVCbtSb/bjENERJrHH998x4zxN1FdVRVoszscDH34bg487SQTK2s9lg54YEy0iI6ObpFzn3X7Dez6n02K3392GmuWfR7SdiDwIZBQ+zgXGIhxH57Izlq5wThERKT5/PbF17x8050ho3F2u53z7rm1XayTZ/mAV1JS0iILHR967mD+78xTQ9p++mQZHz4/PaTtKOATtvbc5da2fd/sFYmIiEhzWv3hEl65JXR2rd3hYMiDd7X5bc0sH/BKS0ubPeB167sfZ9x8TUhb9oaNvHr7ffh8vkDbqRiLFvuneOQAxwA/NWs10t5NvsQ4RESk+a1a/CEvXX97SMhzRDgZ+fgD9DhwfxMra1mWD3hVVVVEREQ02/kSMtIY+cQDOIPOWVFSyozxN1FRXBJoOxl4A4iqffwPcATquZPmN3qQcYiISMv48eNlvHpb6GLIEVGRXPz0BDrv3dPEylqO5QOex+PB5XI1y7mckZFcOPEh3KkpIe2v/e9+Mv/cEHh8MjAP8H/XtcDhwC/NUoWIiIi0tlXvfsCb900IaYuKjeXSZx8jddfOJlXVciwf8JqzB+/sO26sM6niwykzWP3hksDjcwgNd+sw9pXd0CwViIiIiFm+en0Bi/6zxm18SjJjp00iMSPdpKpahuUDXk1NDQ6HY6fPc8g5Z3DQ6aFTo39e+jnvPz018HgUMIet4e5P4EiM4VkREREJf0tnvswnL7wY0pbUsQOXPvc40e6W3zmrtVg+4Hm9Xmw2206dY7cD+jD4lmtD2rLW/8XLN98ZmFRxMzCFrW/ILxjh7t+d+s4iIiJiNe9MfI6v5y0Kaeu4Rw8ufuoRnJGRJlXVvCwf8Ox2e8jM1sZK6tSBC594MGRSRWVZGTPG30RlqbFf3WPAg0Ff8w0wAPXciYiItFWv3/0Qqz9aGtLWvV9fhjzwv53uWLICywc8h8NBzX+2DGuoyJgYLp40gbjkpJD2OXfcT9b6v3ACM4Hgvr1PMJZCyWtauSKN9t164xARkdbj83p5+ea7WPfdqpD2PscN4qTxY02qqvlYPuA5nU6qg9auaSib3c7Qh++m0567h7S//8xUVn/wCTHAW8DIoOfeAE4EineiXpHGOvB24xARkdZVXVnJjKtuYssff4a0D7pkBP1OPdGkqpqH5QNeZGQklZWVO37hf5xy7eX0PmpASNsPH3zCh5NnkIzRUxc85WIqcD7g2YlaRUREJLyUFxUz7bLrKMrJDWk/966b6dpnH5Oq2nmWD3hRUVFUVFQ06msOPWcwR40cEtL295pfmXP7vXT2+fgU+L+g5+4BRgNNGwgWERGRcJa/eQszrrqRqqAOJafLZaydm55mYmVNZ/mAFxMTQ1lZWYNf3+vw/px523UhbYWZ2Uy/8kZ6l1fwFdC7tt0LXAbc2VzFijSB72XjEBER82z8cQ2v3XF/SJs7NYURE+7F7tz55dpaW5sKeF322Zvhj96HPWjdvMqycqZfdQOHZWWzDOhU2+4BhgDPNXfBIiIiEpZWLf6Qj6bOCmnb7YA+nH7DeJMqajrLBzyXy4XHs+M749J368qlzzxKZEx0oM1bU8PLN97B4DW/sQjwL1+YDxwPvNYSBYuIiEjYeu/pKfz6+VchbQOGnMOBp520ja+wJssHvIZMsohPTWHU80/UWQ5l4b0TuHLZcp4C/H16G4DDgKXNX6qIiIiEOWP5lDvJ+3dzSPtZt99ARo/dTKqq8Swd8BwOBy6Xa7tDtBFRkVw86RGSO3UMaV8x8Vnuf/MtxgS1fY0xueKXFqlWRERE2oKywiJmXnMzVRVbO5hc0VFc+MSDRMbGmFhZw1k64MXGxgJQWlpa7/M2u50hD97FrvvsHdKe+8SzTHjhJQ4PansZOArIapFKRUREpC3595ffefP+CSFt6bt15Zz/3WRSRY1j6YCXnJwMQH5+fr3Pn3HzNex3zFFbG3w+Ot7zMHdOf4ldaptqgJuAYUDjFlsRERGR9uzbBe/wzYK3Q9r2P+k4Dj1nsEkVNZzT7AK2xx/wcnJy6jx33LhLGHDB2YHHzvIKBlx3Kwd89mWgLRe4APiwpQsV2Qmjp5ldgYiIbMub9z1K51570WmvPQJtp984nj+/W0XmnxvMK2wHLN2D53a7ASgqKgppP2rkEI6/7NLA44S//+Hc8y8KCXffAf1QuBPrm7rEOERExHqqKyt56YY7qAi6XSwiKpIhD96F0+UysbLts3TAS0hIAKCwsDDQdvAZp3Dq9VcGHu/+8VKGnjOSDkEpegrQH/irleoUERGRtitr/V+8eV/o/Xid996L02+62pyCGsDSAS8pyVj2xH8PXu+Bh3POXTcDxpDsMXc/xGlX30JUqTHLthK4FBiD9pSV8DFqoHGIiIh1rXz7fb5//+OQtv7nDrbs+niWDnhxcXEAlJSU0HnvvRj60N3YHQ6S161nyJBL2O+NtwKv3QAMAF4wpVKRpptyqXGIiIi1vX73Q+Rs/Cek7dBzz8Bms5lU0bZZOuBFRxu7UkQluLnk6UeJjI5inzcXMvT8i0j948/A6+YCBwArzClTRERE2oGK4hJmXnMznnJjXY5v33qX5y+9Ep/PZ3JldVl6Fm1CQgLV1dUMefx+kuPiOPr2++i98N3A8+XAlajXTkRERFrH5t/X8frdDxIZE8uXr883u5xtsnbAS0rEU1NDb5+Pk4dcEtJr9xNwPvCzadWJiIhIe7TynQ/MLmGHbID1+hUBu9PBFz//yH5pGTh32YWI8q3LFM8ELsPowRMJd76Xjf/ahppbh4iItB2m9+D17NmTnj174vV6qayspKCggLKyMg4+5zT2LigiurgMasOdxxXBlTVeptTUNPn7JSQkkJKSQkJCArGxsSQkJJCUlERKSgrx8fFERkbicrlwuVxEREQQExNDbGws0dHRuFwunE4nDocj5Jw+n4+amhqqq6vxeDxUVVVRXV1NVVUVVVVVlJWVkZeXR1FREcXFxRQWFlJaWkpBQQGFhYVUVFRQUVFBaWkphYWFVFdX79R7alUOh4PExETi4uKIjY3F7XYH3tvo6GiioqKIi4sjPj6emJiYwOFyuYiMjCQqKoqIiAicTmfgsNvt2O32wA2u/vsg/O978HtbWVlJVVUVJSUlFBYWUlhYSFFREUVFRYE/Z2VlhSzLE27i4uJITk4mNjY2cMTExBAfH098fHzg/fX/2f+eRkVFERkZSUREBC6XK+Qz7vP5Ap9tj8dDeXk5xcXFgSP4/SsoKKCgoCDw5/z8/DbxeXa5XHTq1ImkpCSSk5PJyMgIfH6joqICn9XIyMjAZ9r/WfX/N/g99Xq9VFVV4fF4Au9tZWUl1dXVlJeXU1JSQmlpaeDz638v/e93bm4uW7ZsweNp2+sFuFyuwGc4LS2Njh07kpaWRmpqKmlpaSQkJOB2u4mLiwtcn51OZ+B6EPw++/9bUlISuBb7P69lZWWUlJSQl5cXaMvMzLTkfVWNYbPZSE1NJT09nYSEBGJiYoiOjiYuLo6YmBgSEhJITk4OXJP911v/zz+HwxE4/LxeL9XV1dTU1FBVVUVFRQWVlZWB66v/8xv83lZUVFBUVERmZiY5OTkUFRVRUdH29paKiooKubbGxsaSlpZW5z2Oj48nNjY28Pn2Xy8iIyNDPr8+ny/wfpeVlVFeXh64/paXl1NTU8O6deuYOXNmvfU0KuBNnDiRffbZh/LycgoKCsjLywsEFv//1Pz8/MDFPi8vj7y8PEpLS6nZRig7//zzufPOO0Pavv/qMzoPv5D4/gMhKgqAzF06clJ+AauqKgJvkNvtJiYmBrfbHfhHnpGRQUZGBh06dCAlJSXwXFJSEh07dgxM3NgWr9cb+EHm/2FWWlpKeXk5lZWV1NTUUFNTg8/nw+fzYbPZcDgcgf8x/n8Y/gu7PyQmJibWCYbb4n9/c3NzAxf6vLy8wD+MgoICsrKyyM3NpbS0NPAD1v+Dtby8+fs2IyIiAh9U/wc4JSWFlJSUwIc5Li6OpKQk3G43CQkJgQ9xbGwscXFxpKamNvg9AAIfaP8Pv4qKikB49h9erzdwgHFBs9vtREdHk5GREQiOMTExgTATGRm53e9bWVlJVlYW2dnZZGVlsXnzZjIzM8nMzKSsrIyCggJycnLIz88nJyeHgoICSkpKmvWHQWRkZOCXC/9Fwf/LSceOHenQoUPgvx06dCA5OTnwS0pDVFRUUFJSQnl5OdXV1YGLtP+HoP8zDkYwj4qKClz4/Rcx/7+/HSktLaWkpITi4uLAe5qbm0teXh5lZWVkZ2eTk5MT+KwXFhaSn58f+AHRXO+ry+UiJiaGuLg43G43aWlpJCUlBR77/07+X/r8YSI9PZ309PTtntt/Aa6srAxcL4J/0fP/QPR6vdjtdpxOZ+AC779u+K8h0dHRgeC4I/7/j8EBMC8vj8zMzMA1ODc3N+Sa7X+f/WGxJQJ48C9saWlpgetEdHQ0ycnJJCUlBUJxQkJC4BfulJQUkpOTiY6OJiEhYbvvgcfjoaCggOLiYkpKSgJh2X9dgK0B0X9ddrlcgf/f/lUatqWqqoq8vDwKCwvJyckhOzubf/75h+zsbMrKygJHUVFR4Nrs///v/wFcUVHRLJ9fu90e+OXMX39SUlLg5116ejqpqakkJCSQmJhIUlJS4DO8o+tddXU1paWlgSM4EPt/3vk/uzabLfDvyOFwBK6nwb8g+q8PO1JTU0NxcTE5OTmBn3XZ2dls2bKFkpKSwC/m/muH/5rgf8/9n+XmZLfbSU5ODnREREdHExkZSXx8PKmpqYHOIf/7m5SURHp6Ol26dCElJaVRP+PLysrweDwh1wv/L3n+99r/88zpdNKxY8dAQI+PjycqKgqHw8Gnn366zYDXqCHaiRMncuCBBxIVFRV4E+Lj43E6d5wT/T+kPR5P4B9GRUUFqamp7LLLLtv8uqqqqkBA9P/ldqS6upqsrCyysrICAbSgoIAtW7awefNmcnJyAr1ohYWF5OXlkZ+f32IXOzCChz+YJiYmEhsbS2JiYuAi5k/7/mCUnJwckvr9Fz63273DC7//H6w/oPp/iPt7FL1eb8g/WiDwW5r/h42/Jv8FsSH/YIN7JQsLCykuLqasrCxwwfP/P/FfSIqLiwMfbv/h/8fcXBfG+jidTtxuN4mJiYEf7P4fMv6Lpf+C6Q9R6enpuLazYrnX6w2E6+ALpD84+QOT1+vF5/MFeh5dLhfR0dGB4OH/bc5u3/4E95qaGrKysti0aRNbtmwhJyeHvLw8Nm3aRG5ubuB9Ly0tDVwQ/T8IS0pKmu1zbrfbQwJ9YmJi4H31/6DxXyfi4+MD72taWlrg38H2+N/X4B88/utIcHCC0M9wZGQkkZGRREdHBy7WO3pPwbje+K8XmZmZgff233//5d9//w0E+8zMTAoLCwPXsaqqqmZ5P4P5g3VUVFTI++p2u0lNTQ30Ivp/sfKHVf/763a7t/uZ9Qu+Hvt/sAZfK/yfWSDQW2632wO/wPp/qPuP+Pj4Bn3fysrKwGezoKCA0tJS8vPzA4HUfx3xf479n+/s7Gyys7Pr7HDUWDabLRCU/L9M+X+Ap6Sk0Llz58DPuZSUFNLT0wNtjeHxeALXuuBfooJDVPD763A4AiHKP9KRkJCw3c9veXk5WVlZIT3n+fn5bNmyhX/++YfMzMxAOPJ3Wvjf+5YYsbDZbCE/6yIjI0lMTCQjI4Pk5ORAoPdfE/yfXf+1tqH/Xv1/d39vt/+a6+8YqK6uDlx3Yev76w9N/uuvPzTv6HoExrW3sLCQ3NxcCgsLycrK4u+//yY7O5vS0lKOOuqoQIfQ7NmzycnJCfwC6/+31lqjGs1yD15wt29SUlKg2zw1NZWkpKRAD4R/+NP/m1tUVBTdunWjY8eOgR94/qEM/2+zYFzkn3322ZAPpn94yN+DVVRUFPgNIDc3d2f/SpYWHR0d+EfhD4X+39z8gcU/ZOH/TTr4Yuz/kDscjpChjOBhZv/QkH9IIy8vL9DT4g8K+fn5gQ91SwYyK/D/MIiNjQ0M0/l7MIPff39Xu7/HwP+brf+99h/+i05lZWVIuPV/vv2fdf9j/+c8Nzc3EJTbwvvtH0Ly9/AE3zaRmJgY+AEbGxsbEiaCe8r9PwiCP8P+ISN/j6s/uPgvsJMnTwaMX4Z69eoVCMAt0fttJn+AiY6ODgnb/l51/7U6+BoefL3wX5f9/CMX/qFP/+G/XviH4vy3npSUlAR6v/w9xv6exG2N6lidzWYL/FLmH53xjxb5e979t5n4f8nwf7aDbwEKHgb189/u4+8I8Q8n+0fGgn/m5efnk5WVRWZmJsXFxSa+Iy0jIiIi8Dn1jxj5h5n9n2u32x34fxF8u4l/qNk/3Bk85Onv2PD/rPvvLSf+Dh//57WioiLQ7g9q2+J0OgO/7FVXVxMREdEq79W2WHaSRWJiYmAHi5KSkgYPPYmIbI+uLSLSEqx2bbHsQsddunQJ/Pnvv/82sRIRaUt0bRGRlmC1a4tlA17wzdvNfSOliLRfuraISEuw2rXFsgEvMTEx8Gd/l6eIyM7StUVEWoLVri2WDXjBU7srKytNrERE2hJdW0SkJVjt2mLZgBc8cytcZ1uJiPXo2iIiLcFq1xbTd7LYll9//ZX//e9/2O12fvvtN7PLEZE2QtcWEWkJVru2WHaZFBERERFpGssO0YqIiIhI01gy4NntdoYNG8bs2bO59NJLzS5HREREZIfOPvvskNm0ZvNZ6Tj11FN9BQUFvuLiYl9mZqavpqbGl5ub6xszZozptenQoUOHDh06dNR3nHfeeT6v1+s79dRTTa8F8FmqB2/EiBG89dZbLFmyhPj4eDIyMkhISOCbb77hueee44QTTjC7RBEREZEQUVFRTJ8+Ha/XS7du3cwuB7DYJIv8/HxWrFjBscceW+e57777jvj4ePbcc08TKhMRERGp36xZszjuuOP4999/WbNmDSNGjDC7JOvcg2e320lISGD27Nn1Pj9nzhy6d+/eylWJiIiIbN/48ePp1asXf/31F127djW7HMBC6+D16tULm83GmjVr6n1+yZIlOBwOXC4XHo+nlasTERERqV9BQQEAERERREVFmVtMLcv04P3777/4fD5SUlLqff7PP/8EsMwbJyIiIhKssLCQmJgYs8sALBTwCgoKqKys5Oijj673+cMOOwyfz0dRUVErVyYiIiKyYxUVFZbpiLJMwANjIsWll15ab/q9+OKL2bJliwlViYiIiDRMQkKC2SUAFgt4p512Gna7nfXr13PBBRfgdruJi4tj+vTpnHbaaTz99NNmlygiIiJSr/z8fKKjo80uA7DQJAuAvLw89ttvP+bPn8+MGTNwuVwAFBUVMWzYMF599VWTKxQRERGp34cffmiZ0UZLrYP3X1FRUSQmJlrmzRIREREJB5YOeCIiIiLSeJa6B09EREREdp4CnoiIiEgbo4AnIiIi0sYo4IlIuzB+/HhKSkpwu90AdO3alZycnMBjEZG2RJMsRKRdSE9P5++//2bNmjXsv//+rF27luLiYg444ACzSxMRaXbqwRORdiErK4sLL7yQPn368O2339K5c2cGDRpkdlkiIi1CPXgi0q789NNP9O7dm5tuuolHHnnE7HJERFqEevBEpF3ZuHEjAGPHjjW5EhGRlqOAJyLthtvt5uijj+bTTz+lW7duTJw40eySRERahAKeiLQbCxYswG63c/rpp7Nw4UKuuuoq9ttvP7PLEhFpdk6zCxARaU333HMPBQUFXHXVVaSnp1NYWGh2SSIizU6TLERERETaGA3RioiIiLQxCngiIiIibYwCnoiIiEgbo4AnIiIi0sYo4ImIiIi0MQp4tXw+n81/mF2LbP3/YXYdbYne0+an97N16LPb/PSeth6z3uf/B5zSO8BCEVlFAAAAAElFTkSuQmCC\n",
          "text/plain": "<Figure size 792x648 with 1 Axes>"
         },
         "metadata": {},
         "output_type": "display_data"
        }
       ]
      }
     },
     "a5503f559042479882f38f32f410df3e": {
      "model_module": "@jupyter-widgets/controls",
      "model_module_version": "1.5.0",
      "model_name": "SliderStyleModel",
      "state": {
       "description_width": ""
      }
     }
    },
    "version_major": 2,
    "version_minor": 0
   }
  }
 },
 "nbformat": 4,
 "nbformat_minor": 5
}
