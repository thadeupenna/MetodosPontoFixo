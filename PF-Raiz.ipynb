{
 "cells": [
  {
   "cell_type": "code",
   "execution_count": 1,
   "id": "c74706e6",
   "metadata": {},
   "outputs": [],
   "source": [
    "import matplotlib.pyplot as plt\n",
    "import numpy as np \n",
    "import ipywidgets as widgets\n",
    "from IPython.display import display"
   ]
  },
  {
   "cell_type": "code",
   "execution_count": 2,
   "id": "74fc277d",
   "metadata": {},
   "outputs": [],
   "source": [
    "def f(x, a):\n",
    "    return a*x*(1-x)"
   ]
  },
  {
   "cell_type": "code",
   "execution_count": 6,
   "id": "d99c2ad7",
   "metadata": {},
   "outputs": [],
   "source": [
    "from matplotlib import patheffects\n",
    "\n",
    "# plt.title(r'$\\frac{x^{10}-1}{100000}$')\n",
    "\n",
    "def logisticupdate(a=1.5):\n",
    "    plt.style.use('dark_background')\n",
    "    plt.xkcd()\n",
    "    plt.rcParams['path.effects'] = [patheffects.withStroke(linewidth=0)]\n",
    "    plt.rcParams['font.family'] = ['Walter Turncoat']\n",
    "\n",
    "    fig,ax = plt.subplots(figsize=(11,9), facecolor='#000000')\n",
    "    ax.spines['bottom'].set_color('white')\n",
    "    ax.spines['bottom'].set_position('zero')\n",
    "    ax.spines['left'].set_position('zero')\n",
    "    ax.spines['top'].set_color('none') \n",
    "    ax.spines['right'].set_color('none')\n",
    "    ax.spines['left'].set_color('white')\n",
    "\n",
    "    b = 1\n",
    "    xp = np.arange(0,1,0.01)\n",
    "    xt = np.arange(0,b+0.1,0.5)\n",
    "    yt = np.arange(0,b+0.1,0.5)\n",
    "    plt.xticks(xt,['0', '', '1'])\n",
    "    plt.yticks(yt,['', '', '1'])\n",
    "    # ax.autoscale_view(True, True, True)\n",
    "    plt.ylim(0, 1.05)\n",
    "    plt.ylabel('f(x)')\n",
    "    plt.xlabel(\"x\"   )\n",
    "\n",
    "    \n",
    "    yp = f(xp, a)\n",
    "    raiz = (a-1)/a\n",
    "    plt.plot(xp, yp, lw = 4)\n",
    "    plt.plot([0,1], [0,1], 'r', lw=3);\n",
    "    if (a>=1): \n",
    "        plt.vlines(raiz,0, f(raiz, a), color = 'orange', ls = 'dashed')\n",
    "        plt.hlines(raiz,0, f(raiz, a), color = 'orange', ls = 'dashed');\n",
    "    ax.text(0.9,0.75,f'a={a}')\n",
    "# plt.vlines(b,0.9*a,b*1.1, color = 'orange', ls = 'dashed')\n",
    "# plt.hlines(a,0.9*a,b*1.1, color = 'orange', ls = 'dashed')\n",
    "# plt.hlines(b,0.9*a,b*1.1, color = 'orange', ls = 'dashed')\n",
    "# plt.savefig('logistico1.png', transparent=True)\n",
    "plt.close()\n"
   ]
  },
  {
   "cell_type": "code",
   "execution_count": 7,
   "id": "4a941d25",
   "metadata": {},
   "outputs": [
    {
     "data": {
      "text/html": [
       "<style> \n",
       ".widget-readout{ color:white; } \n",
       "</style>\n"
      ],
      "text/plain": [
       "<IPython.core.display.HTML object>"
      ]
     },
     "metadata": {},
     "output_type": "display_data"
    }
   ],
   "source": [
    "%%html \n",
    "<style> \n",
    ".widget-readout{ color:white; } \n",
    "</style>"
   ]
  },
  {
   "cell_type": "code",
   "execution_count": 8,
   "id": "f819345f",
   "metadata": {},
   "outputs": [
    {
     "data": {
      "application/vnd.jupyter.widget-view+json": {
       "model_id": "b3363fd8b6f640b3921952939d3cba15",
       "version_major": 2,
       "version_minor": 0
      },
      "text/plain": [
       "interactive(children=(FloatSlider(value=1.5, description='a', max=4.5, min=0.8), Output()), _dom_classes=('wid…"
      ]
     },
     "metadata": {},
     "output_type": "display_data"
    }
   ],
   "source": [
    "widgets.interact(logisticupdate, a=(0.8, 4.5));"
   ]
  },
  {
   "cell_type": "code",
   "execution_count": null,
   "id": "98d7b5e8",
   "metadata": {},
   "outputs": [],
   "source": []
  },
  {
   "cell_type": "code",
   "execution_count": null,
   "id": "b95733c9",
   "metadata": {},
   "outputs": [],
   "source": []
  }
 ],
 "metadata": {
  "kernelspec": {
   "display_name": "Python 3",
   "language": "python",
   "name": "python3"
  },
  "language_info": {
   "codemirror_mode": {
    "name": "ipython",
    "version": 3
   },
   "file_extension": ".py",
   "mimetype": "text/x-python",
   "name": "python",
   "nbconvert_exporter": "python",
   "pygments_lexer": "ipython3",
   "version": "3.7.10"
  }
 },
 "nbformat": 4,
 "nbformat_minor": 5
}
